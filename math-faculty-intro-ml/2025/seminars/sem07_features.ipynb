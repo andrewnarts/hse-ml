{
  "cells": [
    {
      "cell_type": "markdown",
      "metadata": {
        "id": "LVufRUQR_euO"
      },
      "source": [
        "## Семинар 8\n",
        "\n",
        "## Работа с текстовыми данными"
      ]
    },
    {
      "cell_type": "code",
      "execution_count": null,
      "metadata": {
        "ExecuteTime": {
          "end_time": "2019-09-28T19:10:18.309671Z",
          "start_time": "2019-09-28T19:10:14.654448Z"
        },
        "cell_style": "center",
        "id": "gKnshhWe_euP",
        "outputId": "beb23143-330b-4676-c5a2-142d49d80cae"
      },
      "outputs": [
        {
          "name": "stdout",
          "output_type": "stream",
          "text": [
            "Populating the interactive namespace from numpy and matplotlib\n"
          ]
        }
      ],
      "source": [
        "%pylab inline\n",
        "\n",
        "import pandas as pd\n",
        "import seaborn as sns\n",
        "from tqdm.notebook import tqdm\n",
        "from sklearn.datasets import fetch_20newsgroups\n",
        "\n",
        "from sklearn.model_selection import train_test_split, GridSearchCV\n",
        "from sklearn.linear_model import Ridge, LogisticRegression\n",
        "from sklearn.metrics import mean_squared_error, accuracy_score\n",
        "\n",
        "import warnings\n",
        "warnings.simplefilter(\"ignore\")"
      ]
    },
    {
      "cell_type": "markdown",
      "metadata": {
        "id": "HEQnJxw9_euQ"
      },
      "source": [
        "Как правило, модели машинного обучения действуют в предположении, что матрица \"объект-признак\" является вещественнозначной, поэтому при работе с текстами сперва для каждого из них необходимо составить его признаковое описание. Для этого широко используются техники векторизации, tf-idf и пр. Рассмотрим их на примере датасета новостей о разных топиках.\n",
        "\n",
        "Сперва загрузим данные:"
      ]
    },
    {
      "cell_type": "code",
      "execution_count": null,
      "metadata": {
        "ExecuteTime": {
          "end_time": "2019-09-28T19:10:18.959288Z",
          "start_time": "2019-09-28T19:10:18.346983Z"
        },
        "id": "ZgFLvJAd_euQ"
      },
      "outputs": [],
      "source": [
        "data = fetch_20newsgroups(subset='all', categories=['comp.graphics', 'sci.med'])"
      ]
    },
    {
      "cell_type": "markdown",
      "metadata": {
        "id": "46JAf-TV_euQ"
      },
      "source": [
        "Данные содержат тексты новостей, которые надо классифицировать на два раздела: компьютерные науки и медицинские."
      ]
    },
    {
      "cell_type": "code",
      "execution_count": null,
      "metadata": {
        "ExecuteTime": {
          "end_time": "2019-09-28T19:10:18.987312Z",
          "start_time": "2019-09-28T19:10:18.964475Z"
        },
        "id": "qu6en380_euQ",
        "outputId": "f85ab356-10ae-40c1-d698-b9392c0ab729"
      },
      "outputs": [
        {
          "data": {
            "text/plain": [
              "['comp.graphics', 'sci.med']"
            ]
          },
          "execution_count": 3,
          "metadata": {},
          "output_type": "execute_result"
        }
      ],
      "source": [
        "data['target_names']"
      ]
    },
    {
      "cell_type": "code",
      "execution_count": null,
      "metadata": {
        "ExecuteTime": {
          "end_time": "2019-09-28T19:10:19.012942Z",
          "start_time": "2019-09-28T19:10:18.997929Z"
        },
        "id": "yIR3RtAg_euQ"
      },
      "outputs": [],
      "source": [
        "texts = data['data']\n",
        "target = data['target']"
      ]
    },
    {
      "cell_type": "markdown",
      "metadata": {
        "id": "ePCvaMmR_euQ"
      },
      "source": [
        "Например:"
      ]
    },
    {
      "cell_type": "code",
      "execution_count": null,
      "metadata": {
        "ExecuteTime": {
          "end_time": "2019-09-28T19:10:19.060074Z",
          "start_time": "2019-09-28T19:10:19.019838Z"
        },
        "scrolled": true,
        "id": "ppQChgce_euQ",
        "outputId": "485039fe-596e-462f-8c5b-def3c869c5cd"
      },
      "outputs": [
        {
          "data": {
            "text/plain": [
              "'From: dyer@spdcc.com (Steve Dyer)\\nSubject: Re: Analgesics with Diuretics\\nOrganization: S.P. Dyer Computer Consulting, Cambridge MA\\n\\nIn article <ofk=lve00WB2AvUktO@andrew.cmu.edu> Lawrence Curcio <lc2b+@andrew.cmu.edu> writes:\\n>I sometimes see OTC preparations for muscle aches/back aches that\\n>combine aspirin with a diuretic.\\n\\nYou certainly do not see OTC preparations advertised as such.\\nThe only such ridiculous concoctions are nostrums for premenstrual\\nsyndrome, ostensibly to treat headache and \"bloating\" simultaneously.\\nThey\\'re worthless.\\n\\n>The idea seems to be to reduce\\n>inflammation by getting rid of fluid. Does this actually work? \\n\\nThat\\'s not the idea, and no, they don\\'t work.\\n\\n-- \\nSteve Dyer\\ndyer@ursa-major.spdcc.com aka {ima,harvard,rayssd,linus,m2c}!spdcc!dyer\\n'"
            ]
          },
          "execution_count": 5,
          "metadata": {},
          "output_type": "execute_result"
        }
      ],
      "source": [
        "texts[0]"
      ]
    },
    {
      "cell_type": "code",
      "execution_count": null,
      "metadata": {
        "ExecuteTime": {
          "end_time": "2019-09-28T19:10:19.164963Z",
          "start_time": "2019-09-28T19:10:19.131795Z"
        },
        "id": "MICnKtGZ_euQ",
        "outputId": "eae192e8-1a56-4c75-e9f8-72157fff0e16"
      },
      "outputs": [
        {
          "data": {
            "text/plain": [
              "'sci.med'"
            ]
          },
          "execution_count": 6,
          "metadata": {},
          "output_type": "execute_result"
        }
      ],
      "source": [
        "data['target_names'][target[0]]"
      ]
    },
    {
      "cell_type": "code",
      "execution_count": null,
      "metadata": {
        "id": "ETsZaSYh_euQ"
      },
      "outputs": [],
      "source": [
        "texts_train, texts_test, y_train, y_test = train_test_split(\n",
        "    texts, target, test_size=0.2, random_state=10\n",
        ")"
      ]
    },
    {
      "cell_type": "markdown",
      "metadata": {
        "id": "DZGEgQHb_euQ"
      },
      "source": [
        "### Bag-of-words\n",
        "\n",
        "Самый очевидный способ формирования признакового описания текстов — векторизация. Пусть у нас имеется коллекция текстов $D = \\{d_i\\}_{i=1}^l$ и словарь всех слов, встречающихся в выборке $V = \\{v_j\\}_{j=1}^d.$ В этом случае некоторый текст $d_i$ описывается вектором $(x_{ij})_{j=1}^d,$ где\n",
        "$$x_{ij} = \\sum_{v \\in d_i} [v = v_j].$$\n",
        "\n",
        "Таким образом, текст $d_i$ описывается вектором количества вхождений каждого слова из словаря в данный текст."
      ]
    },
    {
      "cell_type": "code",
      "execution_count": null,
      "metadata": {
        "ExecuteTime": {
          "end_time": "2019-09-28T19:10:19.833837Z",
          "start_time": "2019-09-28T19:10:19.175011Z"
        },
        "id": "EoicjNVI_euQ",
        "outputId": "3480c554-f816-4cef-e950-141442ec2e8c"
      },
      "outputs": [
        {
          "data": {
            "text/plain": [
              "29227"
            ]
          },
          "execution_count": 8,
          "metadata": {},
          "output_type": "execute_result"
        }
      ],
      "source": [
        "from sklearn.feature_extraction.text import CountVectorizer\n",
        "\n",
        "vectorizer = CountVectorizer(encoding='utf8')\n",
        "_ = vectorizer.fit(texts_train)\n",
        "len(vectorizer.vocabulary_)"
      ]
    },
    {
      "cell_type": "markdown",
      "metadata": {
        "id": "urgsLngp_euR"
      },
      "source": [
        "Результатом является разреженная матрица."
      ]
    },
    {
      "cell_type": "code",
      "execution_count": null,
      "metadata": {
        "ExecuteTime": {
          "end_time": "2019-09-28T19:10:19.851338Z",
          "start_time": "2019-09-28T19:10:19.837509Z"
        },
        "id": "ad1Sb97U_euR",
        "outputId": "7ff47767-8b00-4372-abc0-0160bfd28ab8"
      },
      "outputs": [
        {
          "data": {
            "text/plain": [
              "<1x29227 sparse matrix of type '<class 'numpy.int64'>'\n",
              "\twith 43 stored elements in Compressed Sparse Row format>"
            ]
          },
          "execution_count": 9,
          "metadata": {},
          "output_type": "execute_result"
        }
      ],
      "source": [
        "vectorizer.transform(texts_train[:1])"
      ]
    },
    {
      "cell_type": "code",
      "execution_count": null,
      "metadata": {
        "ExecuteTime": {
          "end_time": "2019-09-28T19:10:19.872060Z",
          "start_time": "2019-09-28T19:10:19.854688Z"
        },
        "id": "bgySvheK_euR",
        "outputId": "203a74e1-20de-41cf-d484-98e44fea419d"
      },
      "outputs": [
        {
          "name": "stdout",
          "output_type": "stream",
          "text": [
            "[  451  3280  3285  4133  4134  5214  5848  7692  8797  9094  9438  9616\n",
            "  9904 11526 12024 12364 13304 13697 14400 14592 14944 14950 16427 17425\n",
            " 18814 19241 19490 20697 20955 20984 21019 21280 21693 21990 22035 22535\n",
            " 23585 25311 26187 26499 26956 28495 28772]\n",
            "[1 1 1 2 2 3 1 1 4 1 1 1 5 2 1 1 1 1 4 1 2 2 1 1 1 1 1 1 1 1 1 1 1 1 1 1 1\n",
            " 1 1 1 5 1 1]\n"
          ]
        }
      ],
      "source": [
        "print(vectorizer.transform(texts_train[:1]).indices)\n",
        "print(vectorizer.transform(texts_train[:1]).data)"
      ]
    },
    {
      "cell_type": "markdown",
      "metadata": {
        "id": "uun2FcH2_euR"
      },
      "source": [
        "Подберем оптимальные гиперпараметры по сетке и обучим модель. Учить будем логистическую регрессию, так как мы решаем задачу бинарной классификации, а для оценки качества будем использовать точность\n",
        "$$\n",
        "Accuracy(\\hat{y}, y) = \\frac{1}{N} \\sum_{i=1}^N [\\hat{y_i} = y_i]\n",
        "$$"
      ]
    },
    {
      "cell_type": "code",
      "execution_count": null,
      "metadata": {
        "id": "XSQ5LQV5_euR"
      },
      "outputs": [],
      "source": [
        "def train_model(X_train, y_train):\n",
        "    alphas = np.logspace(-1, 3, 10)\n",
        "    searcher = GridSearchCV(LogisticRegression(), [{'C': alphas, 'max_iter': [500]}],\n",
        "                            scoring='accuracy', cv=5, n_jobs=-1)\n",
        "    searcher.fit(X_train, y_train)\n",
        "\n",
        "    best_alpha = searcher.best_params_[\"C\"]\n",
        "    print(\"Best alpha = %.4f\" % best_alpha)\n",
        "\n",
        "    model = LogisticRegression(C=best_alpha, max_iter=500)\n",
        "    model.fit(X_train, y_train)\n",
        "\n",
        "    return model"
      ]
    },
    {
      "cell_type": "code",
      "execution_count": null,
      "metadata": {
        "id": "fb2lT8kt_euR"
      },
      "outputs": [],
      "source": [
        "X_train = vectorizer.transform(texts_train)\n",
        "X_test = vectorizer.transform(texts_test)"
      ]
    },
    {
      "cell_type": "code",
      "execution_count": null,
      "metadata": {
        "id": "llE3UXWG_euR",
        "outputId": "47212bdb-b9be-48b4-d2dd-0dbb62aeb8e0"
      },
      "outputs": [
        {
          "name": "stdout",
          "output_type": "stream",
          "text": [
            "Best alpha = 0.7743\n",
            "Train accuracy = 1.0000\n",
            "Test accuracy = 0.9720\n"
          ]
        }
      ],
      "source": [
        "model = train_model(X_train, y_train)\n",
        "\n",
        "print(\"Train accuracy = %.4f\" % accuracy_score(y_train, model.predict(X_train)))\n",
        "print(\"Test accuracy = %.4f\" % accuracy_score(y_test, model.predict(X_test)))"
      ]
    },
    {
      "cell_type": "markdown",
      "metadata": {
        "id": "4vRwbILf_euR"
      },
      "source": [
        "### TF-IDF\n",
        "\n",
        "Ещё один способ работы с текстовыми данными — [TF-IDF](https://en.wikipedia.org/wiki/Tf–idf) (**T**erm **F**requency–**I**nverse **D**ocument **F**requency). Рассмотрим коллекцию текстов $D$.  Для каждого уникального слова $t$ из документа $d \\in D$ вычислим следующие величины:\n",
        "\n",
        "1. Term Frequency – количество вхождений слова в отношении к общему числу слов в тексте:\n",
        "$$\\text{tf}(t, d) = \\frac{n_{td}}{\\sum_{t \\in d} n_{td}},$$\n",
        "где $n_{td}$ — количество вхождений слова $t$ в текст $d$.\n",
        "1. Inverse Document Frequency\n",
        "$$\\text{idf}(t, D) = \\log \\frac{\\left| D \\right|}{\\left| \\{d\\in D: t \\in d\\} \\right|},$$\n",
        "где $\\left| \\{d\\in D: t \\in d\\} \\right|$ – количество текстов в коллекции, содержащих слово $t$.\n",
        "\n",
        "Тогда для каждой пары (слово, текст) $(t, d)$ вычислим величину:\n",
        "\n",
        "$$\\text{tf-idf}(t,d, D) = \\text{tf}(t, d)\\cdot \\text{idf}(t, D).$$\n",
        "\n",
        "Отметим, что значение $\\text{tf}(t, d)$ корректируется для часто встречающихся общеупотребимых слов при помощи значения $\\text{idf}(t, D)$."
      ]
    },
    {
      "cell_type": "code",
      "execution_count": null,
      "metadata": {
        "ExecuteTime": {
          "end_time": "2019-09-28T19:10:20.548074Z",
          "start_time": "2019-09-28T19:10:19.877266Z"
        },
        "id": "OkwiTKz7_euR",
        "outputId": "8a5c961b-1201-4dcb-9634-9fdb4a4acdea"
      },
      "outputs": [
        {
          "data": {
            "text/plain": [
              "29227"
            ]
          },
          "execution_count": 14,
          "metadata": {},
          "output_type": "execute_result"
        }
      ],
      "source": [
        "from sklearn.feature_extraction.text import TfidfVectorizer\n",
        "\n",
        "vectorizer = TfidfVectorizer(encoding='utf8')\n",
        "_ = vectorizer.fit(texts_train)\n",
        "len(vectorizer.vocabulary_)"
      ]
    },
    {
      "cell_type": "markdown",
      "metadata": {
        "id": "drvaRi-O_euR"
      },
      "source": [
        "На выходе получаем разреженную матрицу."
      ]
    },
    {
      "cell_type": "code",
      "execution_count": null,
      "metadata": {
        "ExecuteTime": {
          "end_time": "2019-09-28T19:10:20.569113Z",
          "start_time": "2019-09-28T19:10:20.550328Z"
        },
        "id": "m3cQaCos_euR",
        "outputId": "0eddbf36-3aa6-4f9b-ca9e-0f5a9f110e69"
      },
      "outputs": [
        {
          "data": {
            "text/plain": [
              "<1x29227 sparse matrix of type '<class 'numpy.float64'>'\n",
              "\twith 43 stored elements in Compressed Sparse Row format>"
            ]
          },
          "execution_count": 15,
          "metadata": {},
          "output_type": "execute_result"
        }
      ],
      "source": [
        "vectorizer.transform(texts_train[:1])"
      ]
    },
    {
      "cell_type": "code",
      "execution_count": null,
      "metadata": {
        "ExecuteTime": {
          "end_time": "2019-09-28T19:10:20.601343Z",
          "start_time": "2019-09-28T19:10:20.574776Z"
        },
        "id": "bKLJAynF_euR",
        "outputId": "43d8ca43-0d13-4c0c-9e8e-f9fedd69b109"
      },
      "outputs": [
        {
          "name": "stdout",
          "output_type": "stream",
          "text": [
            "[29097 28831 28793 28751 28665 27566 26802 26499 26318 26283 26211 26209\n",
            " 25758 25396 25311 25072 24692 24588 24253 23753 23743 22882 22873 22227\n",
            " 22035 22002 21137 21124 19566 19553 19490 19356 19263 19241 18937 18935\n",
            " 18816 18280 16947 16821 16812 16775 16445 16140 16116 14432 14253 14120\n",
            " 14015 13218 13150 12376 12024 11805 11721 10241 10080  9773  9741  9712\n",
            "  9632  9631  8497  7916  7743  7692  7482  7473  7316  6729  6385  6167\n",
            "  5606  5186  4963  4616  4575  4555  4461  4138  4127  4097  3818  3633\n",
            "  3486  3419]\n",
            "[0.02847645 0.03142552 0.10526438 0.10312729 0.05644174 0.08756307\n",
            " 0.07828735 0.05600843 0.02587729 0.07735152 0.05526081 0.04728733\n",
            " 0.07421514 0.09664853 0.01676178 0.123904   0.25103298 0.06939308\n",
            " 0.09992653 0.05728882 0.10066724 0.1015241  0.09846807 0.08101145\n",
            " 0.05042139 0.08830816 0.23376552 0.12170482 0.18525966 0.12170482\n",
            " 0.01735912 0.04445822 0.12170482 0.01877742 0.05769067 0.12170482\n",
            " 0.03931898 0.08550803 0.06326732 0.07149103 0.08830816 0.12170482\n",
            " 0.08255979 0.10526438 0.09076549 0.08756307 0.02039305 0.08830816\n",
            " 0.13733887 0.08908792 0.07094142 0.06163869 0.01676178 0.04409804\n",
            " 0.09846807 0.04937804 0.48032027 0.03977595 0.03948371 0.03500662\n",
            " 0.11314248 0.11688276 0.10329013 0.08908792 0.12170482 0.04348468\n",
            " 0.09846807 0.06590317 0.16621882 0.06866943 0.08310941 0.03503833\n",
            " 0.12170482 0.02705738 0.05494616 0.10750261 0.03127267 0.03221137\n",
            " 0.02891128 0.15829423 0.04023415 0.10526438 0.08101145 0.11008645\n",
            " 0.06015437 0.23376552]\n"
          ]
        }
      ],
      "source": [
        "print(vectorizer.transform(texts[:1]).indices)\n",
        "print(vectorizer.transform(texts[:1]).data)"
      ]
    },
    {
      "cell_type": "markdown",
      "metadata": {
        "id": "ggtMchJO_euR"
      },
      "source": [
        "Подберем оптимальные гиперпараметры по сетке и обучим модель."
      ]
    },
    {
      "cell_type": "code",
      "execution_count": null,
      "metadata": {
        "id": "8GR7qyFr_euR"
      },
      "outputs": [],
      "source": [
        "X_train = vectorizer.transform(texts_train)\n",
        "X_test = vectorizer.transform(texts_test)"
      ]
    },
    {
      "cell_type": "code",
      "execution_count": null,
      "metadata": {
        "id": "z2eWl1gs_euR",
        "outputId": "ec8e4eb5-3944-4feb-a34d-28eb0bf70378"
      },
      "outputs": [
        {
          "name": "stdout",
          "output_type": "stream",
          "text": [
            "Best alpha = 1000.0000\n",
            "Train accuracy = 1.0000\n",
            "Test accuracy = 0.9873\n"
          ]
        }
      ],
      "source": [
        "model = train_model(X_train, y_train)\n",
        "\n",
        "print(\"Train accuracy = %.4f\" % accuracy_score(y_train, model.predict(X_train)))\n",
        "print(\"Test accuracy = %.4f\" % accuracy_score(y_test, model.predict(X_test)))"
      ]
    },
    {
      "cell_type": "markdown",
      "metadata": {
        "id": "OMy_Ux5P_euR"
      },
      "source": [
        "## Стемминг и лемматизация\n",
        "\n",
        "Заметим, что одно и то же слово может встречаться в различных формах (например, \"сотрудник\" и \"сотрудника\"), но описанные выше методы интерпретируют их как различные слова, что делает признаковое описание избыточным. Устранить эту проблему можно при помощи **лемматизации** и **стемминга**.\n",
        "\n",
        "### Стемминг\n",
        "\n",
        "[**Stemming**](https://en.wikipedia.org/wiki/Stemming) –  это процесс нахождения основы слова. В результате применения данной процедуры однокоренные слова, как правило, преобразуются к одинаковому виду.\n",
        "\n",
        "**Примеры стемминга:**\n",
        "\n",
        "| Word        | Stem           |\n",
        "| ----------- |:-------------:|\n",
        "| вагон | вагон |\n",
        "| вагона | вагон |\n",
        "| вагоне | вагон |\n",
        "| вагонов | вагон |\n",
        "| вагоном | вагон |\n",
        "| вагоны | вагон |\n",
        "| важная | важн |\n",
        "| важнее | важн |\n",
        "| важнейшие | важн |\n",
        "| важнейшими | важн |\n",
        "| важничал | важнича |\n",
        "| важно | важн |\n",
        "\n",
        "[Snowball](http://snowball.tartarus.org/) – фрэймворк для написания алгоритмов стемминга. Алгоритмы стемминга отличаются для разных языков и используют знания о конкретном языке – списки окончаний для разных чистей речи, разных склонений и т.д. Пример алгоритма для русского языка – [Russian stemming](http://snowballstem.org/algorithms/russian/stemmer.html)."
      ]
    },
    {
      "cell_type": "code",
      "execution_count": null,
      "metadata": {
        "ExecuteTime": {
          "end_time": "2019-09-28T19:10:21.109437Z",
          "start_time": "2019-09-28T19:10:20.604439Z"
        },
        "id": "caxk7GdO_euR"
      },
      "outputs": [],
      "source": [
        "import nltk\n",
        "stemmer = nltk.stem.snowball.RussianStemmer()"
      ]
    },
    {
      "cell_type": "code",
      "execution_count": null,
      "metadata": {
        "ExecuteTime": {
          "end_time": "2019-09-28T19:10:21.130340Z",
          "start_time": "2019-09-28T19:10:21.112772Z"
        },
        "id": "H9tEPuJd_euR",
        "outputId": "65ae569d-41b7-4165-a14c-cdca79833f01"
      },
      "outputs": [
        {
          "name": "stdout",
          "output_type": "stream",
          "text": [
            "машин обучен\n"
          ]
        }
      ],
      "source": [
        "print(stemmer.stem(u'машинное'), stemmer.stem(u'обучение'))"
      ]
    },
    {
      "cell_type": "markdown",
      "metadata": {
        "id": "xon0z_-q_euR"
      },
      "source": [
        "Попробуем применить **стемминг** для предобработки текста перед векторизацией. Векторизовывать будем с помощью **tf-idf**, так как такой метод показал лучшее качество."
      ]
    },
    {
      "cell_type": "code",
      "execution_count": null,
      "metadata": {
        "ExecuteTime": {
          "end_time": "2019-09-28T19:10:25.274844Z",
          "start_time": "2019-09-28T19:10:21.135760Z"
        },
        "colab": {
          "referenced_widgets": [
            "6118ce32fa5547f987eab61fbea89401",
            "cd45407b32574677b71dd1e899dfd023"
          ]
        },
        "id": "MXUfjdsF_euR",
        "outputId": "c5317c49-c639-42a4-bd07-9ae338abbc98"
      },
      "outputs": [
        {
          "data": {
            "application/vnd.jupyter.widget-view+json": {
              "model_id": "6118ce32fa5547f987eab61fbea89401",
              "version_major": 2,
              "version_minor": 0
            },
            "text/plain": [
              "  0%|          | 0/1570 [00:00<?, ?it/s]"
            ]
          },
          "metadata": {},
          "output_type": "display_data"
        },
        {
          "data": {
            "application/vnd.jupyter.widget-view+json": {
              "model_id": "cd45407b32574677b71dd1e899dfd023",
              "version_major": 2,
              "version_minor": 0
            },
            "text/plain": [
              "  0%|          | 0/393 [00:00<?, ?it/s]"
            ]
          },
          "metadata": {},
          "output_type": "display_data"
        }
      ],
      "source": [
        "stemmer = nltk.stem.snowball.EnglishStemmer()\n",
        "\n",
        "def stem_text(text, stemmer):\n",
        "    tokens = text.split()\n",
        "    return ' '.join(map(lambda w: stemmer.stem(w), tokens))\n",
        "\n",
        "stemmed_texts_train = []\n",
        "for t in tqdm(texts_train):\n",
        "    stemmed_texts_train.append(stem_text(t, stemmer))\n",
        "\n",
        "stemmed_texts_test = []\n",
        "for t in tqdm(texts_test):\n",
        "    stemmed_texts_test.append(stem_text(t, stemmer))"
      ]
    },
    {
      "cell_type": "code",
      "execution_count": null,
      "metadata": {
        "ExecuteTime": {
          "end_time": "2019-09-28T19:10:25.290119Z",
          "start_time": "2019-09-28T19:10:25.279611Z"
        },
        "id": "I-fy7L3b_euR",
        "outputId": "34c04419-4752-4f87-c038-5a67ffc31428"
      },
      "outputs": [
        {
          "name": "stdout",
          "output_type": "stream",
          "text": [
            "From: black@sybase.com (Chris Black)\n",
            "Subject: cystic breast disease\n",
            "Organization: Sybase, Inc.\n",
            "Lines: 18\n",
            "\n",
            "My mom has just been diagnosed with cystic breast disease -- a big\n",
            "relief, as it was a lump that could have been cancer.  Her doctor says\n",
            "she should go off caffeine and chocolate for 6 months, as well as\n",
            "stopping the estrogen she's been taking for menopause-related reasons.\n",
            "She's not thrilled with this, I think especially because she just gave\n",
            "up cigarettes -- soon she won't have any pleasures left!  Now, I thought\n",
            "I'd heard that cystic breasts were common and not really a health risk.\n",
            "Is this accurate?  If so, why is she being told to make various\n",
            "sacrifices to treat something that's not that big of a deal?\n",
            "\n",
            "Thanks for any information.\n",
            "\n",
            "-- Chris\n",
            "\n",
            "-- \n",
            "black@sybase.com\n",
            "\n",
            "Note:  My mailer tends to garble subject lines.  \n",
            "\n"
          ]
        }
      ],
      "source": [
        "print(texts_train[1])"
      ]
    },
    {
      "cell_type": "code",
      "execution_count": null,
      "metadata": {
        "ExecuteTime": {
          "end_time": "2019-09-28T19:10:25.306834Z",
          "start_time": "2019-09-28T19:10:25.294638Z"
        },
        "id": "d_uaSm8H_euS",
        "outputId": "a9749c7e-70ec-4902-8033-f654a19d25e7"
      },
      "outputs": [
        {
          "name": "stdout",
          "output_type": "stream",
          "text": [
            "from: black@sybase.com (chris black) subject: cystic breast diseas organization: sybase, inc. lines: 18 my mom has just been diagnos with cystic breast diseas -- a big relief, as it was a lump that could have been cancer. her doctor say she should go off caffein and chocol for 6 months, as well as stop the estrogen she been take for menopause-rel reasons. she not thrill with this, i think especi becaus she just gave up cigarett -- soon she won't have ani pleasur left! now, i thought i'd heard that cystic breast were common and not realli a health risk. is this accurate? if so, whi is she be told to make various sacrific to treat someth that not that big of a deal? thank for ani information. -- chris -- black@sybase.com note: my mailer tend to garbl subject lines.\n"
          ]
        }
      ],
      "source": [
        "print(stemmed_texts_train[1])"
      ]
    },
    {
      "cell_type": "code",
      "execution_count": null,
      "metadata": {
        "id": "lw6u7ktL_euS",
        "outputId": "abb41619-be24-49c0-ad24-635c7c238cd7"
      },
      "outputs": [
        {
          "data": {
            "text/plain": [
              "27715"
            ]
          },
          "execution_count": 24,
          "metadata": {},
          "output_type": "execute_result"
        }
      ],
      "source": [
        "vectorizer = TfidfVectorizer(encoding='utf8')\n",
        "_ = vectorizer.fit(stemmed_texts_train)\n",
        "len(vectorizer.vocabulary_)"
      ]
    },
    {
      "cell_type": "code",
      "execution_count": null,
      "metadata": {
        "id": "UPzF_Lh9_euS"
      },
      "outputs": [],
      "source": [
        "X_train = vectorizer.transform(stemmed_texts_train)\n",
        "X_test = vectorizer.transform(stemmed_texts_test)"
      ]
    },
    {
      "cell_type": "code",
      "execution_count": null,
      "metadata": {
        "id": "tNCW0SWJ_euS",
        "outputId": "c98f2abc-031a-4d9b-b67d-58fcf35b0506"
      },
      "outputs": [
        {
          "name": "stdout",
          "output_type": "stream",
          "text": [
            "Best alpha = 129.1550\n",
            "Train accuracy = 1.0000\n",
            "Test accuracy = 0.9924\n"
          ]
        }
      ],
      "source": [
        "model = train_model(X_train, y_train)\n",
        "\n",
        "print(\"Train accuracy = %.4f\" % accuracy_score(y_train, model.predict(X_train)))\n",
        "print(\"Test accuracy = %.4f\" % accuracy_score(y_test, model.predict(X_test)))"
      ]
    },
    {
      "cell_type": "markdown",
      "metadata": {
        "id": "0PbqTVbT_euS"
      },
      "source": [
        "### Лемматизация\n",
        "\n",
        "[Лемматизация](https://en.wikipedia.org/wiki/Lemmatisation) — процесс приведения слова к его нормальной форме (**лемме**):\n",
        "- для существительных — именительный падеж, единственное число;\n",
        "- для прилагательных — именительный падеж, единственное число, мужской род;\n",
        "- для глаголов, причастий, деепричастий — глагол в инфинитиве."
      ]
    },
    {
      "cell_type": "markdown",
      "metadata": {
        "id": "XUfMSidG_euV"
      },
      "source": [
        "Например, для русского языка есть библиотека pymorphy2."
      ]
    },
    {
      "cell_type": "code",
      "execution_count": null,
      "metadata": {
        "ExecuteTime": {
          "end_time": "2019-09-28T19:10:25.442948Z",
          "start_time": "2019-09-28T19:10:25.311429Z"
        },
        "id": "wkAWY_BK_euV"
      },
      "outputs": [],
      "source": [
        "import pymorphy2\n",
        "morph = pymorphy2.MorphAnalyzer()"
      ]
    },
    {
      "cell_type": "code",
      "execution_count": null,
      "metadata": {
        "ExecuteTime": {
          "end_time": "2019-09-28T19:10:25.468072Z",
          "start_time": "2019-09-28T19:10:25.447023Z"
        },
        "id": "R2QFYO49_euV",
        "outputId": "68eb26c5-15cb-47c9-a915-6734a3cf3eb6"
      },
      "outputs": [
        {
          "data": {
            "text/plain": [
              "Parse(word='играющих', tag=OpencorporaTag('PRTF,Subx,impf,tran,pres,actv plur,gent'), normal_form='играть', score=0.6, methods_stack=((DictionaryAnalyzer(), 'играющих', 1694, 34),))"
            ]
          },
          "execution_count": 28,
          "metadata": {},
          "output_type": "execute_result"
        }
      ],
      "source": [
        "morph.parse('играющих')[0]"
      ]
    },
    {
      "cell_type": "markdown",
      "metadata": {
        "id": "fbMXr0_x_euV"
      },
      "source": [
        "Сравним работу стеммера и лемматизатора на примере:"
      ]
    },
    {
      "cell_type": "code",
      "execution_count": null,
      "metadata": {
        "ExecuteTime": {
          "end_time": "2019-09-28T19:10:25.489016Z",
          "start_time": "2019-09-28T19:10:25.474203Z"
        },
        "id": "COYHP_Yx_euV",
        "outputId": "9e4bb91c-f675-48bf-c65d-6c7c3982de43"
      },
      "outputs": [
        {
          "name": "stdout",
          "output_type": "stream",
          "text": [
            "игра\n"
          ]
        }
      ],
      "source": [
        "stemmer = nltk.stem.snowball.RussianStemmer()\n",
        "print(stemmer.stem('играющих'))"
      ]
    },
    {
      "cell_type": "code",
      "execution_count": null,
      "metadata": {
        "ExecuteTime": {
          "end_time": "2019-09-28T19:10:25.502206Z",
          "start_time": "2019-09-28T19:10:25.493051Z"
        },
        "id": "KT45Ci08_euV",
        "outputId": "d66e2307-7e7c-4083-cb13-d6789b3e75e7"
      },
      "outputs": [
        {
          "name": "stdout",
          "output_type": "stream",
          "text": [
            "играть\n"
          ]
        }
      ],
      "source": [
        "print(morph.parse('играющих')[0].normal_form)"
      ]
    },
    {
      "cell_type": "markdown",
      "metadata": {
        "id": "lQpNhar6_euV"
      },
      "source": [
        "Для английского языка будем пользоваться лемматизатором из библиотеки **nltk**."
      ]
    },
    {
      "cell_type": "code",
      "execution_count": null,
      "metadata": {
        "colab": {
          "referenced_widgets": [
            "351d5f14c6cf4a88921f0381d14baaa7",
            "a93ef102fd7c430aa4b507e80019b369"
          ]
        },
        "id": "z_Lm5MrC_euV",
        "outputId": "7e3da99a-fa10-41d5-f95b-371bf768e68d"
      },
      "outputs": [
        {
          "data": {
            "application/vnd.jupyter.widget-view+json": {
              "model_id": "351d5f14c6cf4a88921f0381d14baaa7",
              "version_major": 2,
              "version_minor": 0
            },
            "text/plain": [
              "  0%|          | 0/1570 [00:00<?, ?it/s]"
            ]
          },
          "metadata": {},
          "output_type": "display_data"
        },
        {
          "data": {
            "application/vnd.jupyter.widget-view+json": {
              "model_id": "a93ef102fd7c430aa4b507e80019b369",
              "version_major": 2,
              "version_minor": 0
            },
            "text/plain": [
              "  0%|          | 0/393 [00:00<?, ?it/s]"
            ]
          },
          "metadata": {},
          "output_type": "display_data"
        }
      ],
      "source": [
        "from nltk.stem import WordNetLemmatizer\n",
        "\n",
        "lemmatizer = WordNetLemmatizer()\n",
        "\n",
        "def lemmatize_text(text, stemmer):\n",
        "    tokens = text.split()\n",
        "    return ' '.join(map(lambda w: lemmatizer.lemmatize(w), tokens))\n",
        "\n",
        "lemmatized_texts_train = []\n",
        "for t in tqdm(texts_train):\n",
        "    lemmatized_texts_train.append(lemmatize_text(t, stemmer))\n",
        "\n",
        "lemmatized_texts_test = []\n",
        "for t in tqdm(texts_test):\n",
        "    lemmatized_texts_test.append(lemmatize_text(t, stemmer))"
      ]
    },
    {
      "cell_type": "code",
      "execution_count": null,
      "metadata": {
        "id": "4rdwQeFr_euV",
        "outputId": "02bb85df-a63f-4fd4-c5f2-051647088244"
      },
      "outputs": [
        {
          "name": "stdout",
          "output_type": "stream",
          "text": [
            "From: black@sybase.com (Chris Black) Subject: cystic breast disease Organization: Sybase, Inc. Lines: 18 My mom ha just been diagnosed with cystic breast disease -- a big relief, a it wa a lump that could have been cancer. Her doctor say she should go off caffeine and chocolate for 6 months, a well a stopping the estrogen she's been taking for menopause-related reasons. She's not thrilled with this, I think especially because she just gave up cigarette -- soon she won't have any pleasure left! Now, I thought I'd heard that cystic breast were common and not really a health risk. Is this accurate? If so, why is she being told to make various sacrifice to treat something that's not that big of a deal? Thanks for any information. -- Chris -- black@sybase.com Note: My mailer tends to garble subject lines.\n"
          ]
        }
      ],
      "source": [
        "print(lemmatized_texts_train[1])"
      ]
    },
    {
      "cell_type": "code",
      "execution_count": null,
      "metadata": {
        "id": "7GfA8cFt_euV",
        "outputId": "9e0d07e3-29a6-4e98-a454-36c114aa649b"
      },
      "outputs": [
        {
          "name": "stdout",
          "output_type": "stream",
          "text": [
            "from: black@sybase.com (chris black) subject: cystic breast diseas organization: sybase, inc. lines: 18 my mom has just been diagnos with cystic breast diseas -- a big relief, as it was a lump that could have been cancer. her doctor say she should go off caffein and chocol for 6 months, as well as stop the estrogen she been take for menopause-rel reasons. she not thrill with this, i think especi becaus she just gave up cigarett -- soon she won't have ani pleasur left! now, i thought i'd heard that cystic breast were common and not realli a health risk. is this accurate? if so, whi is she be told to make various sacrific to treat someth that not that big of a deal? thank for ani information. -- chris -- black@sybase.com note: my mailer tend to garbl subject lines.\n"
          ]
        }
      ],
      "source": [
        "print(stemmed_texts_train[1])"
      ]
    },
    {
      "cell_type": "markdown",
      "metadata": {
        "id": "HDRiyXMT_euV"
      },
      "source": [
        "Лемматизируем наш корпус применим tf-idf векторизацию и обучим модель."
      ]
    },
    {
      "cell_type": "code",
      "execution_count": null,
      "metadata": {
        "id": "6Yz7OAJE_euV",
        "outputId": "dc427c72-d2af-4b6d-a094-931e7ed3299d"
      },
      "outputs": [
        {
          "data": {
            "text/plain": [
              "28717"
            ]
          },
          "execution_count": 34,
          "metadata": {},
          "output_type": "execute_result"
        }
      ],
      "source": [
        "vectorizer = TfidfVectorizer(encoding='utf8')\n",
        "_ = vectorizer.fit(lemmatized_texts_train)\n",
        "len(vectorizer.vocabulary_)"
      ]
    },
    {
      "cell_type": "code",
      "execution_count": null,
      "metadata": {
        "id": "YoES-DPn_euV"
      },
      "outputs": [],
      "source": [
        "X_train = vectorizer.transform(lemmatized_texts_train)\n",
        "X_test = vectorizer.transform(lemmatized_texts_test)"
      ]
    },
    {
      "cell_type": "code",
      "execution_count": null,
      "metadata": {
        "id": "jPea6JLR_euV",
        "outputId": "16b850ce-33e6-4040-a7a1-b7628924875a"
      },
      "outputs": [
        {
          "name": "stdout",
          "output_type": "stream",
          "text": [
            "Best alpha = 359.3814\n",
            "Train accuracy = 1.0000\n",
            "Test accuracy = 0.9873\n"
          ]
        }
      ],
      "source": [
        "model = train_model(X_train, y_train)\n",
        "\n",
        "print(\"Train accuracy = %.4f\" % accuracy_score(y_train, model.predict(X_train)))\n",
        "print(\"Test accuracy = %.4f\" % accuracy_score(y_test, model.predict(X_test)))"
      ]
    },
    {
      "cell_type": "code",
      "execution_count": null,
      "metadata": {
        "id": "7EsJnLNK_euV"
      },
      "outputs": [],
      "source": []
    },
    {
      "cell_type": "markdown",
      "metadata": {
        "id": "Au1_38rx_euV"
      },
      "source": [
        "## Трансформация признаков и целевой переменной"
      ]
    },
    {
      "cell_type": "markdown",
      "metadata": {
        "id": "XG4t38N6_euV"
      },
      "source": [
        "Разберёмся, как может влиять трансформация признаков или целевой переменной на качество модели."
      ]
    },
    {
      "cell_type": "markdown",
      "metadata": {
        "id": "0kAfYa8f_euV"
      },
      "source": [
        "### Логарифмирование\n",
        "\n",
        "Воспользуется датасетом с ценами на дома, с которым мы уже сталкивались ранее ([House Prices: Advanced Regression Techniques](https://www.kaggle.com/c/house-prices-advanced-regression-techniques/overview))."
      ]
    },
    {
      "cell_type": "code",
      "execution_count": null,
      "metadata": {
        "ExecuteTime": {
          "end_time": "2019-09-28T19:10:27.600964Z",
          "start_time": "2019-09-28T19:10:25.507394Z"
        },
        "id": "Dt42n35p_euV"
      },
      "outputs": [],
      "source": [
        "!wget  -O 'train_sem4.csv' -q 'https://www.dropbox.com/s/syfy4lb6xb7wdlx/_train_sem4.csv?dl=0'"
      ]
    },
    {
      "cell_type": "code",
      "execution_count": null,
      "metadata": {
        "ExecuteTime": {
          "end_time": "2019-09-28T19:10:27.669451Z",
          "start_time": "2019-09-28T19:10:27.604504Z"
        },
        "id": "mzmdXGPx_euV"
      },
      "outputs": [],
      "source": [
        "data = pd.read_csv('train_sem4.csv')\n",
        "\n",
        "data = data.drop(columns=[\"Id\"])\n",
        "y = data[\"SalePrice\"]\n",
        "X = data.drop(columns=[\"SalePrice\"])"
      ]
    },
    {
      "cell_type": "markdown",
      "metadata": {
        "id": "UjI5llnR_euV"
      },
      "source": [
        "Оставим только числовые признаки, пропуски заменим средним значением."
      ]
    },
    {
      "cell_type": "code",
      "execution_count": null,
      "metadata": {
        "ExecuteTime": {
          "end_time": "2019-09-28T19:10:28.464075Z",
          "start_time": "2019-09-28T19:10:28.401693Z"
        },
        "id": "4J1VCpde_euW"
      },
      "outputs": [],
      "source": [
        "X_train, X_test, y_train, y_test = train_test_split(\n",
        "    X, y, test_size=0.3, random_state=100)\n",
        "\n",
        "numeric_data = X_train.select_dtypes([np.number])\n",
        "numeric_data_mean = numeric_data.mean()\n",
        "numeric_features = numeric_data.columns\n",
        "\n",
        "X_train = X_train.fillna(numeric_data_mean)[numeric_features]\n",
        "X_test = X_test.fillna(numeric_data_mean)[numeric_features]"
      ]
    },
    {
      "cell_type": "markdown",
      "metadata": {
        "id": "489MpIDK_euW"
      },
      "source": [
        "Посмотрим на распределение целевой переменной"
      ]
    },
    {
      "cell_type": "code",
      "execution_count": null,
      "metadata": {
        "ExecuteTime": {
          "end_time": "2019-09-28T19:10:28.386207Z",
          "start_time": "2019-09-28T19:10:27.671842Z"
        },
        "id": "28pa6MHY_euW",
        "outputId": "12b12a65-7153-416f-eaf5-b1860861843a"
      },
      "outputs": [
        {
          "data": {
            "image/png": "[encoded data removed]",
            "text/plain": [
              "<Figure size 864x360 with 1 Axes>"
            ]
          },
          "metadata": {
            "needs_background": "light"
          },
          "output_type": "display_data"
        }
      ],
      "source": [
        "plt.figure(figsize=(12, 5))\n",
        "\n",
        "plt.subplot(1, 2, 1)\n",
        "sns.distplot(y, label='target')\n",
        "plt.title('target')\n",
        "\n",
        "plt.show()"
      ]
    },
    {
      "cell_type": "markdown",
      "metadata": {
        "ExecuteTime": {
          "end_time": "2019-09-26T13:06:11.582867Z",
          "start_time": "2019-09-26T13:06:11.570901Z"
        },
        "id": "oq0lTIwu_euW"
      },
      "source": [
        "Видим, что распределения несимметричные с тяжёлыми правыми хвостами.\n",
        "\n",
        "Если разбирать линейную регрессию c MSE ошибкой с [вероятностной](https://github.com/esokolov/ml-course-hse/blob/master/2018-fall/seminars/sem04-linregr.pdf) точки зрения, то можно получить, что шум должен быть распределён нормально. Поэтому лучше, когда целевая переменная распределена также нормально.\n",
        "\n",
        "Если прологарифмировать целевую переменную, то её распределение станет больше похоже на нормальное:"
      ]
    },
    {
      "cell_type": "code",
      "execution_count": null,
      "metadata": {
        "ExecuteTime": {
          "end_time": "2019-09-28T19:10:28.771830Z",
          "start_time": "2019-09-28T19:10:28.469382Z"
        },
        "id": "i7L4M-43_euW",
        "outputId": "def8d16e-86d2-4b39-f433-f38e51bf3003"
      },
      "outputs": [
        {
          "data": {
            "image/png": "[encoded data removed]",
            "text/plain": [
              "<Figure size 432x288 with 1 Axes>"
            ]
          },
          "metadata": {
            "needs_background": "light"
          },
          "output_type": "display_data"
        }
      ],
      "source": [
        "sns.distplot(np.log(y+1), label='target')\n",
        "plt.show()"
      ]
    },
    {
      "cell_type": "markdown",
      "metadata": {
        "id": "vpDG18D4_euW"
      },
      "source": [
        "Сравним качество линейной регрессии в двух случаях:\n",
        "1. Целевая переменная без изменений.\n",
        "2. Целевая переменная прологарифмирована.\n",
        "\n",
        "Не забудем вернуть во втором случае взять экспоненту от предсказаний!"
      ]
    },
    {
      "cell_type": "code",
      "execution_count": null,
      "metadata": {
        "id": "6cVfH9zd_euW"
      },
      "outputs": [],
      "source": [
        "def train_model(X_train, y_train):\n",
        "    alphas = np.logspace(-2, 3, 10)\n",
        "    searcher = GridSearchCV(Ridge(), [{'alpha': alphas}],\n",
        "                            scoring='neg_root_mean_squared_error', cv=10, n_jobs=-1)\n",
        "    searcher.fit(X_train, np.log(y_train+1))\n",
        "\n",
        "    best_alpha = searcher.best_params_[\"alpha\"]\n",
        "    print(\"Best alpha = %.4f\" % best_alpha)\n",
        "\n",
        "    return searcher.best_estimator_.fit(X_train, y_train)"
      ]
    },
    {
      "cell_type": "code",
      "execution_count": null,
      "metadata": {
        "ExecuteTime": {
          "end_time": "2019-09-28T19:10:28.833250Z",
          "start_time": "2019-09-28T19:10:28.801394Z"
        },
        "id": "LYqtBJXu_euW",
        "outputId": "abadc1d8-8b8f-4e59-d0b5-195dcfb0dd44"
      },
      "outputs": [
        {
          "name": "stdout",
          "output_type": "stream",
          "text": [
            "Best alpha = 21.5443\n",
            "Train RMSE = 34823.9864\n",
            "Test RMSE = 34068.8463\n"
          ]
        }
      ],
      "source": [
        "model = train_model(X_train, y_train)\n",
        "\n",
        "y_pred_train = model.predict(X_train)\n",
        "y_pred_test = model.predict(X_test)\n",
        "\n",
        "print(\"Train RMSE = %.4f\" % mean_squared_error(y_train, y_pred_train) ** 0.5)\n",
        "print(\"Test RMSE = %.4f\" % mean_squared_error(y_test, y_pred_test) ** 0.5)"
      ]
    },
    {
      "cell_type": "code",
      "execution_count": null,
      "metadata": {
        "ExecuteTime": {
          "end_time": "2019-09-28T19:10:28.860025Z",
          "start_time": "2019-09-28T19:10:28.840089Z"
        },
        "id": "fsfN9FAG_euW",
        "outputId": "ae041f9e-94de-42cc-e365-076845e92a18"
      },
      "outputs": [
        {
          "name": "stdout",
          "output_type": "stream",
          "text": [
            "Best alpha = 21.5443\n",
            "Train RMSE = 38147.4237\n",
            "Test RMSE = 29230.4326\n"
          ]
        }
      ],
      "source": [
        "model = train_model(X_train, np.log(y_train+1))\n",
        "\n",
        "y_pred_train = np.exp(model.predict(X_train)) - 1\n",
        "y_pred_test = np.exp(model.predict(X_test)) - 1\n",
        "\n",
        "print(\"Train RMSE = %.4f\" % mean_squared_error(y_train, y_pred_train) ** 0.5)\n",
        "print(\"Test RMSE = %.4f\" % mean_squared_error(y_test, y_pred_test) ** 0.5)"
      ]
    },
    {
      "cell_type": "markdown",
      "metadata": {
        "id": "v7zb5ZtP_euW"
      },
      "source": [
        "Попробуем аналогично логарифмировать один из признаков, имеющих также смещённое распределение (этот признак был вторым по важности!)"
      ]
    },
    {
      "cell_type": "code",
      "execution_count": null,
      "metadata": {
        "id": "FqdHqi8m_euW",
        "outputId": "c14b0bcd-d08f-424f-9335-c8866f8903bb"
      },
      "outputs": [
        {
          "data": {
            "image/png": "[encoded data removed]",
            "text/plain": [
              "<Figure size 864x360 with 1 Axes>"
            ]
          },
          "metadata": {
            "needs_background": "light"
          },
          "output_type": "display_data"
        }
      ],
      "source": [
        "plt.figure(figsize=(12, 5))\n",
        "\n",
        "plt.subplot(1, 2, 1)\n",
        "sns.distplot(y, label='GrLivArea')\n",
        "plt.title('GrLivArea')\n",
        "\n",
        "plt.show()"
      ]
    },
    {
      "cell_type": "code",
      "execution_count": null,
      "metadata": {
        "ExecuteTime": {
          "end_time": "2019-09-28T19:10:28.883024Z",
          "start_time": "2019-09-28T19:10:28.866508Z"
        },
        "id": "68OpLuZU_euW"
      },
      "outputs": [],
      "source": [
        "X_train.GrLivArea = np.log(X_train.GrLivArea + 1)\n",
        "X_test.GrLivArea = np.log(X_test.GrLivArea + 1)"
      ]
    },
    {
      "cell_type": "code",
      "execution_count": null,
      "metadata": {
        "ExecuteTime": {
          "end_time": "2019-09-28T19:10:28.915423Z",
          "start_time": "2019-09-28T19:10:28.887909Z"
        },
        "id": "064sZyBY_euW",
        "outputId": "dc9a94a6-7899-4e3b-b71c-e42eefe5e208"
      },
      "outputs": [
        {
          "name": "stdout",
          "output_type": "stream",
          "text": [
            "Best alpha = 0.0100\n",
            "Train RMSE = 34781.6496\n",
            "Test RMSE = 33967.9876\n"
          ]
        }
      ],
      "source": [
        "model = train_model(X_train, y_train)\n",
        "\n",
        "y_pred_train = model.predict(X_train)\n",
        "y_pred_test = model.predict(X_test)\n",
        "\n",
        "print(\"Train RMSE = %.4f\" % mean_squared_error(y_train, y_pred_train) ** 0.5)\n",
        "print(\"Test RMSE = %.4f\" % mean_squared_error(y_test, y_pred_test) ** 0.5)"
      ]
    },
    {
      "cell_type": "code",
      "execution_count": null,
      "metadata": {
        "ExecuteTime": {
          "end_time": "2019-09-28T19:10:28.946812Z",
          "start_time": "2019-09-28T19:10:28.919832Z"
        },
        "id": "2EjlRm73_euW",
        "outputId": "da212cc7-7493-4e39-d428-43b067c48afe"
      },
      "outputs": [
        {
          "name": "stdout",
          "output_type": "stream",
          "text": [
            "Best alpha = 0.0100\n",
            "Train RMSE = 33553.2647\n",
            "Test RMSE = 31070.1888\n"
          ]
        }
      ],
      "source": [
        "model = train_model(X_train, np.log(y_train+1))\n",
        "\n",
        "y_pred_train = np.exp(model.predict(X_train)) - 1\n",
        "y_pred_test = np.exp(model.predict(X_test)) - 1\n",
        "\n",
        "print(\"Train RMSE = %.4f\" % mean_squared_error(y_train, y_pred_train) ** 0.5)\n",
        "print(\"Test RMSE = %.4f\" % mean_squared_error(y_test, y_pred_test) ** 0.5)"
      ]
    },
    {
      "cell_type": "markdown",
      "metadata": {
        "id": "4MRbD5Cr_euW"
      },
      "source": [
        "Как видим, логарифмирование признака уменьшило ошибку на тренировочной выборке, но на тестовой выборке ошибка увеличилась."
      ]
    },
    {
      "cell_type": "markdown",
      "metadata": {
        "id": "D6Ayyexz_euW"
      },
      "source": [
        "## Категориальные признаки"
      ]
    },
    {
      "cell_type": "code",
      "execution_count": null,
      "metadata": {
        "id": "v5gkGAJe_euW"
      },
      "outputs": [],
      "source": [
        "# ! pip install category_encoders"
      ]
    },
    {
      "cell_type": "code",
      "execution_count": null,
      "metadata": {
        "id": "-dlLFuIA_euW"
      },
      "outputs": [],
      "source": [
        "from category_encoders.target_encoder import TargetEncoder\n",
        "from sklearn.preprocessing import OneHotEncoder\n",
        "from sklearn.compose import ColumnTransformer\n",
        "from sklearn.pipeline import Pipeline"
      ]
    },
    {
      "cell_type": "code",
      "execution_count": null,
      "metadata": {
        "id": "uiOkh8JC_euW"
      },
      "outputs": [],
      "source": [
        "X_train, X_test, y_train, y_test = train_test_split(\n",
        "    X, y, test_size=0.3, random_state=100)"
      ]
    },
    {
      "cell_type": "code",
      "execution_count": null,
      "metadata": {
        "id": "PdfFD5rU_euW"
      },
      "outputs": [],
      "source": [
        "numeric = list(X_train.select_dtypes(include=np.number).columns)\n",
        "categorical = list(X_train.dtypes[X_train.dtypes == \"object\"].index)"
      ]
    },
    {
      "cell_type": "code",
      "execution_count": null,
      "metadata": {
        "id": "tSV2lYYi_euW"
      },
      "outputs": [],
      "source": [
        "X_train[categorical] = X_train[categorical].fillna(\"NotGiven\")\n",
        "X_test[categorical] = X_test[categorical].fillna(\"NotGiven\")\n",
        "\n",
        "numeric_data_mean = X_train[numeric_features].mean()\n",
        "X_train[numeric] = X_train[numeric].fillna(numeric_data_mean)\n",
        "X_test[numeric] = X_test[numeric].fillna(numeric_data_mean)"
      ]
    },
    {
      "cell_type": "markdown",
      "metadata": {
        "id": "hQ7RKkj3_euW"
      },
      "source": [
        "### One Hot Encoder"
      ]
    },
    {
      "cell_type": "code",
      "execution_count": null,
      "metadata": {
        "id": "AIogJOyQ_euX"
      },
      "outputs": [],
      "source": [
        "column_transformer = ColumnTransformer([\n",
        "    ('ohe', OneHotEncoder(handle_unknown=\"ignore\"), categorical)\n",
        "], remainder='passthrough')\n",
        "\n",
        "pipeline = Pipeline(steps=[\n",
        "    ('ohe', column_transformer),\n",
        "    ('regression', Ridge())\n",
        "])"
      ]
    },
    {
      "cell_type": "code",
      "execution_count": null,
      "metadata": {
        "id": "CmOz360-_euX",
        "outputId": "e9dd50e6-d95e-410e-ec5d-480b3af9e110"
      },
      "outputs": [
        {
          "name": "stdout",
          "output_type": "stream",
          "text": [
            "Best alpha = 100000.0000\n"
          ]
        }
      ],
      "source": [
        "alphas = np.logspace(-2, 5, 10)\n",
        "searcher = GridSearchCV(pipeline, [{'regression__alpha': alphas}],\n",
        "                        scoring='neg_root_mean_squared_error', cv=10, n_jobs=-1)\n",
        "searcher.fit(X_train, np.log(y_train+1))\n",
        "\n",
        "best_alpha = searcher.best_params_[\"regression__alpha\"]\n",
        "print(\"Best alpha = %.4f\" % best_alpha)"
      ]
    },
    {
      "cell_type": "code",
      "execution_count": null,
      "metadata": {
        "id": "n_9iMIPB_euX",
        "outputId": "32ceaaa3-b150-402f-c26d-2e693447ea69"
      },
      "outputs": [
        {
          "name": "stdout",
          "output_type": "stream",
          "text": [
            "Train RMSE = 56930.9085\n",
            "Test RMSE = 36562.8777\n"
          ]
        }
      ],
      "source": [
        "model = searcher.best_estimator_\n",
        "\n",
        "y_pred_train = np.exp(model.predict(X_train)) - 1\n",
        "y_pred_test = np.exp(model.predict(X_test)) - 1\n",
        "\n",
        "print(\"Train RMSE = %.4f\" % mean_squared_error(y_train, y_pred_train) ** 0.5)\n",
        "print(\"Test RMSE = %.4f\" % mean_squared_error(y_test, y_pred_test) ** 0.5)"
      ]
    },
    {
      "cell_type": "code",
      "execution_count": null,
      "metadata": {
        "id": "rlfwO8hq_euX",
        "outputId": "ed3ed529-fc1d-4eef-d920-886fdbb818b2"
      },
      "outputs": [
        {
          "name": "stdout",
          "output_type": "stream",
          "text": [
            "Features before OHE: 79\n",
            "Features after OHE: 299\n"
          ]
        }
      ],
      "source": [
        "print('Features before OHE:', len(numeric) + len(categorical))\n",
        "print('Features after OHE:', len(model['regression'].coef_))"
      ]
    },
    {
      "cell_type": "markdown",
      "metadata": {
        "id": "tXb893Hm_euX"
      },
      "source": [
        "Видим, что OHE кодирование признаков привело к колоссальному переобучению, попробуем что-нибудь умнее."
      ]
    },
    {
      "cell_type": "markdown",
      "metadata": {
        "id": "O-GAqGou_euX"
      },
      "source": [
        "### Счетчики (mean target encoding)"
      ]
    },
    {
      "cell_type": "markdown",
      "metadata": {
        "id": "bSz5SAhc_euX"
      },
      "source": [
        "При кодировании категориального признака каждое его значение будем заменять на среднее значение целевой переменной для всех объектов с такой категорией.\n",
        "\n",
        "$$\n",
        "g_j(x, X) = \\frac{\\sum_{i=1}^{\\ell}\\left[f_j(x)=f_j\\left(x_i\\right)\\right] y_i}{\\sum_{i=1}^{\\ell}\\left[f_j(x)=f_j\\left(x_i\\right)\\right]}\n",
        "$$"
      ]
    },
    {
      "cell_type": "code",
      "execution_count": null,
      "metadata": {
        "id": "7-ZVpan9_euX"
      },
      "outputs": [],
      "source": [
        "column_transformer = ColumnTransformer([\n",
        "    ('te', TargetEncoder(smoothing=1.0), categorical)\n",
        "], remainder='passthrough')\n",
        "\n",
        "pipeline = Pipeline(steps=[\n",
        "    ('scale', column_transformer),\n",
        "    ('regression', Ridge())\n",
        "])"
      ]
    },
    {
      "cell_type": "code",
      "execution_count": null,
      "metadata": {
        "id": "rRwZ6Wb0_euX",
        "outputId": "36529ed9-e214-46a5-9bc9-b8f4c87851e4"
      },
      "outputs": [
        {
          "name": "stdout",
          "output_type": "stream",
          "text": [
            "Best alpha = 5.9948\n"
          ]
        }
      ],
      "source": [
        "alphas = np.logspace(-2, 3, 10)\n",
        "searcher = GridSearchCV(pipeline, [{'regression__alpha': alphas}],\n",
        "                        scoring='neg_root_mean_squared_error', cv=10, n_jobs=-1)\n",
        "searcher.fit(X_train, np.log(y_train+1))\n",
        "\n",
        "best_alpha = searcher.best_params_[\"regression__alpha\"]\n",
        "print(\"Best alpha = %.4f\" % best_alpha)"
      ]
    },
    {
      "cell_type": "code",
      "execution_count": null,
      "metadata": {
        "id": "oTR6YhLS_euX",
        "outputId": "39f60d01-0977-4d10-9726-2213a31eea74"
      },
      "outputs": [
        {
          "name": "stdout",
          "output_type": "stream",
          "text": [
            "Train RMSE = 29544.4295\n",
            "Test RMSE = 26965.3038\n"
          ]
        }
      ],
      "source": [
        "model = searcher.best_estimator_\n",
        "\n",
        "y_pred_train = np.exp(model.predict(X_train)) - 1\n",
        "y_pred_test = np.exp(model.predict(X_test)) - 1\n",
        "\n",
        "print(\"Train RMSE = %.4f\" % mean_squared_error(y_train, y_pred_train) ** 0.5)\n",
        "print(\"Test RMSE = %.4f\" % mean_squared_error(y_test, y_pred_test) ** 0.5)"
      ]
    },
    {
      "cell_type": "markdown",
      "metadata": {
        "id": "aR1BNKsN_euX"
      },
      "source": [
        "Гораздо лучше!"
      ]
    },
    {
      "cell_type": "markdown",
      "metadata": {
        "id": "xx7eq4g2_euX"
      },
      "source": [
        "## Транзакционные данные"
      ]
    },
    {
      "cell_type": "markdown",
      "metadata": {
        "id": "AA7MdHlS_euX"
      },
      "source": [
        "Напоследок посмотрим, как можно извлекать признаки из транзакционных данных.\n",
        "\n",
        "Транзакционные данные характеризуются тем, что есть много строк, характеризующихся моментов времени и некоторым числом (суммой денег, например). При этом если это банк, то каждому человеку принадлежит не одна транзакция, а чаще всего надо предсказывать некоторые сущности для клиентов. Таким образом, надо получить признаки для пользователей из множества их транзакций. Этим мы и займёмся.\n",
        "\n",
        "Для примера возьмём данные [отсюда](https://www.kaggle.com/regivm/retailtransactiondata/). Задача детектирования фродовых клиентов."
      ]
    },
    {
      "cell_type": "code",
      "execution_count": null,
      "metadata": {
        "id": "wWgLzB19_euX"
      },
      "outputs": [],
      "source": [
        "!wget  -O 'Retail_Data_Response.csv' -q 'https://www.dropbox.com/s/le9icl9syo22thh/Retail_Data_Response.csv?dl=0'\n",
        "!wget  -O 'Retail_Data_Transactions.csv' -q 'https://www.dropbox.com/s/obsxryxpfsdz3ut/Retail_Data_Transactions.csv?dl=0'"
      ]
    },
    {
      "cell_type": "code",
      "execution_count": null,
      "metadata": {
        "ExecuteTime": {
          "end_time": "2019-09-28T19:10:34.314276Z",
          "start_time": "2019-09-28T19:10:34.231504Z"
        },
        "id": "vucz64Dl_euX"
      },
      "outputs": [],
      "source": [
        "customers = pd.read_csv('Retail_Data_Response.csv')\n",
        "transactions = pd.read_csv('Retail_Data_Transactions.csv')"
      ]
    },
    {
      "cell_type": "code",
      "execution_count": null,
      "metadata": {
        "ExecuteTime": {
          "end_time": "2019-09-28T19:10:34.339478Z",
          "start_time": "2019-09-28T19:10:34.316390Z"
        },
        "id": "5Nm9ApEq_euX",
        "outputId": "8d8f6584-1d37-4848-d2a9-7da751ed3ed4"
      },
      "outputs": [
        {
          "data": {
            "text/html": [
              "<div>\n",
              "<style scoped>\n",
              "    .dataframe tbody tr th:only-of-type {\n",
              "        vertical-align: middle;\n",
              "    }\n",
              "\n",
              "    .dataframe tbody tr th {\n",
              "        vertical-align: top;\n",
              "    }\n",
              "\n",
              "    .dataframe thead th {\n",
              "        text-align: right;\n",
              "    }\n",
              "</style>\n",
              "<table border=\"1\" class=\"dataframe\">\n",
              "  <thead>\n",
              "    <tr style=\"text-align: right;\">\n",
              "      <th></th>\n",
              "      <th>customer_id</th>\n",
              "      <th>response</th>\n",
              "    </tr>\n",
              "  </thead>\n",
              "  <tbody>\n",
              "    <tr>\n",
              "      <th>0</th>\n",
              "      <td>CS1112</td>\n",
              "      <td>0</td>\n",
              "    </tr>\n",
              "    <tr>\n",
              "      <th>1</th>\n",
              "      <td>CS1113</td>\n",
              "      <td>0</td>\n",
              "    </tr>\n",
              "    <tr>\n",
              "      <th>2</th>\n",
              "      <td>CS1114</td>\n",
              "      <td>1</td>\n",
              "    </tr>\n",
              "    <tr>\n",
              "      <th>3</th>\n",
              "      <td>CS1115</td>\n",
              "      <td>1</td>\n",
              "    </tr>\n",
              "    <tr>\n",
              "      <th>4</th>\n",
              "      <td>CS1116</td>\n",
              "      <td>1</td>\n",
              "    </tr>\n",
              "  </tbody>\n",
              "</table>\n",
              "</div>"
            ],
            "text/plain": [
              "  customer_id  response\n",
              "0      CS1112         0\n",
              "1      CS1113         0\n",
              "2      CS1114         1\n",
              "3      CS1115         1\n",
              "4      CS1116         1"
            ]
          },
          "execution_count": 62,
          "metadata": {},
          "output_type": "execute_result"
        }
      ],
      "source": [
        "customers.head()"
      ]
    },
    {
      "cell_type": "code",
      "execution_count": null,
      "metadata": {
        "ExecuteTime": {
          "end_time": "2019-09-28T19:10:34.393258Z",
          "start_time": "2019-09-28T19:10:34.345560Z"
        },
        "id": "JsQyuiof_euX",
        "outputId": "beffd22e-784f-4cff-e12c-41abf06a10a4"
      },
      "outputs": [
        {
          "data": {
            "text/html": [
              "<div>\n",
              "<style scoped>\n",
              "    .dataframe tbody tr th:only-of-type {\n",
              "        vertical-align: middle;\n",
              "    }\n",
              "\n",
              "    .dataframe tbody tr th {\n",
              "        vertical-align: top;\n",
              "    }\n",
              "\n",
              "    .dataframe thead th {\n",
              "        text-align: right;\n",
              "    }\n",
              "</style>\n",
              "<table border=\"1\" class=\"dataframe\">\n",
              "  <thead>\n",
              "    <tr style=\"text-align: right;\">\n",
              "      <th></th>\n",
              "      <th>customer_id</th>\n",
              "      <th>trans_date</th>\n",
              "      <th>tran_amount</th>\n",
              "    </tr>\n",
              "  </thead>\n",
              "  <tbody>\n",
              "    <tr>\n",
              "      <th>0</th>\n",
              "      <td>CS5295</td>\n",
              "      <td>11-Feb-13</td>\n",
              "      <td>35</td>\n",
              "    </tr>\n",
              "    <tr>\n",
              "      <th>1</th>\n",
              "      <td>CS4768</td>\n",
              "      <td>15-Mar-15</td>\n",
              "      <td>39</td>\n",
              "    </tr>\n",
              "    <tr>\n",
              "      <th>2</th>\n",
              "      <td>CS2122</td>\n",
              "      <td>26-Feb-13</td>\n",
              "      <td>52</td>\n",
              "    </tr>\n",
              "    <tr>\n",
              "      <th>3</th>\n",
              "      <td>CS1217</td>\n",
              "      <td>16-Nov-11</td>\n",
              "      <td>99</td>\n",
              "    </tr>\n",
              "    <tr>\n",
              "      <th>4</th>\n",
              "      <td>CS1850</td>\n",
              "      <td>20-Nov-13</td>\n",
              "      <td>78</td>\n",
              "    </tr>\n",
              "  </tbody>\n",
              "</table>\n",
              "</div>"
            ],
            "text/plain": [
              "  customer_id trans_date  tran_amount\n",
              "0      CS5295  11-Feb-13           35\n",
              "1      CS4768  15-Mar-15           39\n",
              "2      CS2122  26-Feb-13           52\n",
              "3      CS1217  16-Nov-11           99\n",
              "4      CS1850  20-Nov-13           78"
            ]
          },
          "execution_count": 63,
          "metadata": {},
          "output_type": "execute_result"
        }
      ],
      "source": [
        "transactions.head()"
      ]
    },
    {
      "cell_type": "code",
      "execution_count": null,
      "metadata": {
        "ExecuteTime": {
          "end_time": "2019-09-28T19:10:35.873166Z",
          "start_time": "2019-09-28T19:10:34.443594Z"
        },
        "id": "FkkWL1MX_euX"
      },
      "outputs": [],
      "source": [
        "transactions.trans_date = transactions.trans_date.apply(\n",
        "    lambda x: datetime.datetime.strptime(x, '%d-%b-%y'))"
      ]
    },
    {
      "cell_type": "markdown",
      "metadata": {
        "id": "maHPSB24_euX"
      },
      "source": [
        "Посмотрим на распределение целевой переменной:"
      ]
    },
    {
      "cell_type": "code",
      "execution_count": null,
      "metadata": {
        "ExecuteTime": {
          "end_time": "2019-09-28T19:10:35.891923Z",
          "start_time": "2019-09-28T19:10:35.875688Z"
        },
        "id": "MUbkMDus_euX",
        "outputId": "a4eb5f94-6368-4670-cabc-7a5cf1d237ad"
      },
      "outputs": [
        {
          "data": {
            "text/plain": [
              "0.09398605461940732"
            ]
          },
          "execution_count": 65,
          "metadata": {},
          "output_type": "execute_result"
        }
      ],
      "source": [
        "customers.response.mean()"
      ]
    },
    {
      "cell_type": "markdown",
      "metadata": {
        "id": "YAZTdgIk_euX"
      },
      "source": [
        "Получаем примерно 1 к 9 положительных примеров. Если такие данные разбивать на части для кросс валидации, то может получиться так, что в одну из частей попадёт слишком мало положительных примеров, а в другую — наоборот. На случай такого неравномерного баланса классов есть StratifiedKFold, который бьёт данные так, чтобы баланс классов во всех частях был одинаковым."
      ]
    },
    {
      "cell_type": "code",
      "execution_count": null,
      "metadata": {
        "ExecuteTime": {
          "end_time": "2019-09-28T19:10:35.909700Z",
          "start_time": "2019-09-28T19:10:35.898951Z"
        },
        "id": "TakQpYf4_euX"
      },
      "outputs": [],
      "source": [
        "from sklearn.model_selection import StratifiedKFold"
      ]
    },
    {
      "cell_type": "markdown",
      "metadata": {
        "id": "JR6AlTeD_euX"
      },
      "source": [
        "Когда строк на каждый объект много, можно считать различные статистики. Например, средние, минимальные и максимальные суммы, потраченные клиентом, количество транзакий, ..."
      ]
    },
    {
      "cell_type": "code",
      "execution_count": null,
      "metadata": {
        "ExecuteTime": {
          "end_time": "2019-09-28T19:10:36.003307Z",
          "start_time": "2019-09-28T19:10:35.914780Z"
        },
        "id": "8bP8m69a_euY",
        "outputId": "6a811f9b-ac5b-43d1-eb04-690b41d3c94b"
      },
      "outputs": [
        {
          "data": {
            "text/html": [
              "<div>\n",
              "<style scoped>\n",
              "    .dataframe tbody tr th:only-of-type {\n",
              "        vertical-align: middle;\n",
              "    }\n",
              "\n",
              "    .dataframe tbody tr th {\n",
              "        vertical-align: top;\n",
              "    }\n",
              "\n",
              "    .dataframe thead th {\n",
              "        text-align: right;\n",
              "    }\n",
              "</style>\n",
              "<table border=\"1\" class=\"dataframe\">\n",
              "  <thead>\n",
              "    <tr style=\"text-align: right;\">\n",
              "      <th></th>\n",
              "      <th>customer_id</th>\n",
              "      <th>response</th>\n",
              "      <th>mean</th>\n",
              "      <th>std</th>\n",
              "      <th>count</th>\n",
              "      <th>min</th>\n",
              "      <th>max</th>\n",
              "    </tr>\n",
              "  </thead>\n",
              "  <tbody>\n",
              "    <tr>\n",
              "      <th>0</th>\n",
              "      <td>CS1112</td>\n",
              "      <td>0</td>\n",
              "      <td>67.466667</td>\n",
              "      <td>19.766012</td>\n",
              "      <td>15</td>\n",
              "      <td>36</td>\n",
              "      <td>105</td>\n",
              "    </tr>\n",
              "    <tr>\n",
              "      <th>1</th>\n",
              "      <td>CS1113</td>\n",
              "      <td>0</td>\n",
              "      <td>74.500000</td>\n",
              "      <td>21.254102</td>\n",
              "      <td>20</td>\n",
              "      <td>36</td>\n",
              "      <td>98</td>\n",
              "    </tr>\n",
              "    <tr>\n",
              "      <th>2</th>\n",
              "      <td>CS1114</td>\n",
              "      <td>1</td>\n",
              "      <td>75.368421</td>\n",
              "      <td>21.341692</td>\n",
              "      <td>19</td>\n",
              "      <td>37</td>\n",
              "      <td>105</td>\n",
              "    </tr>\n",
              "    <tr>\n",
              "      <th>3</th>\n",
              "      <td>CS1115</td>\n",
              "      <td>1</td>\n",
              "      <td>75.409091</td>\n",
              "      <td>18.151896</td>\n",
              "      <td>22</td>\n",
              "      <td>41</td>\n",
              "      <td>104</td>\n",
              "    </tr>\n",
              "    <tr>\n",
              "      <th>4</th>\n",
              "      <td>CS1116</td>\n",
              "      <td>1</td>\n",
              "      <td>65.923077</td>\n",
              "      <td>22.940000</td>\n",
              "      <td>13</td>\n",
              "      <td>40</td>\n",
              "      <td>105</td>\n",
              "    </tr>\n",
              "  </tbody>\n",
              "</table>\n",
              "</div>"
            ],
            "text/plain": [
              "  customer_id  response       mean        std  count  min  max\n",
              "0      CS1112         0  67.466667  19.766012     15   36  105\n",
              "1      CS1113         0  74.500000  21.254102     20   36   98\n",
              "2      CS1114         1  75.368421  21.341692     19   37  105\n",
              "3      CS1115         1  75.409091  18.151896     22   41  104\n",
              "4      CS1116         1  65.923077  22.940000     13   40  105"
            ]
          },
          "execution_count": 67,
          "metadata": {},
          "output_type": "execute_result"
        }
      ],
      "source": [
        "agg_transactions = transactions.groupby('customer_id').tran_amount.agg(\n",
        "    ['mean', 'std', 'count', 'min', 'max']).reset_index()\n",
        "\n",
        "data = pd.merge(customers, agg_transactions, how='left', on='customer_id')\n",
        "\n",
        "data.head()"
      ]
    },
    {
      "cell_type": "code",
      "execution_count": null,
      "metadata": {
        "ExecuteTime": {
          "end_time": "2019-09-28T19:10:36.210653Z",
          "start_time": "2019-09-28T19:10:36.008305Z"
        },
        "id": "VdX7yIgt_euY",
        "outputId": "f71c994f-b194-4c05-a981-dd4101ce7b4a"
      },
      "outputs": [
        {
          "data": {
            "text/plain": [
              "0.7138460124535347"
            ]
          },
          "execution_count": 69,
          "metadata": {},
          "output_type": "execute_result"
        }
      ],
      "source": [
        "from sklearn.linear_model import LogisticRegression\n",
        "from sklearn.model_selection import cross_val_score\n",
        "\n",
        "np.mean(cross_val_score(\n",
        "    LogisticRegression(solver='newton-cg'),\n",
        "    X=data.drop(['customer_id', 'response'], axis=1),\n",
        "    y=data.response,\n",
        "    cv=StratifiedKFold(n_splits=3),\n",
        "    scoring='roc_auc'))"
      ]
    },
    {
      "cell_type": "markdown",
      "metadata": {
        "id": "xb0Z3iqn_euY"
      },
      "source": [
        "Но каждая транзакция снабжена датой! Можно посчитать статистики только по свежим транзакциям. Добавим их."
      ]
    },
    {
      "cell_type": "code",
      "execution_count": null,
      "metadata": {
        "ExecuteTime": {
          "end_time": "2019-09-28T19:10:36.235061Z",
          "start_time": "2019-09-28T19:10:36.218040Z"
        },
        "id": "1UERZXqB_euY",
        "outputId": "43d9c7b2-ba8f-4923-be78-94e0f73016d4"
      },
      "outputs": [
        {
          "data": {
            "text/plain": [
              "(Timestamp('2011-05-16 00:00:00'), Timestamp('2015-03-16 00:00:00'))"
            ]
          },
          "execution_count": 70,
          "metadata": {},
          "output_type": "execute_result"
        }
      ],
      "source": [
        "transactions.trans_date.min(), transactions.trans_date.max()"
      ]
    },
    {
      "cell_type": "code",
      "execution_count": null,
      "metadata": {
        "ExecuteTime": {
          "end_time": "2019-09-28T19:10:36.858305Z",
          "start_time": "2019-09-28T19:10:36.240648Z"
        },
        "id": "k2oktGN5_euY"
      },
      "outputs": [],
      "source": [
        "agg_transactions = transactions.loc[transactions.trans_date.apply(\n",
        "    lambda x: x.year == 2014)].groupby('customer_id').tran_amount.agg(\n",
        "    ['mean', 'std', 'count', 'min', 'max']).reset_index()"
      ]
    },
    {
      "cell_type": "code",
      "execution_count": null,
      "metadata": {
        "ExecuteTime": {
          "end_time": "2019-09-28T19:10:36.886707Z",
          "start_time": "2019-09-28T19:10:36.860734Z"
        },
        "id": "rtrOQZZB_euY"
      },
      "outputs": [],
      "source": [
        "data = pd.merge(data, agg_transactions, how='left', on='customer_id', suffixes=('', '_2014'))\n",
        "data = data.fillna(0)"
      ]
    },
    {
      "cell_type": "code",
      "execution_count": null,
      "metadata": {
        "ExecuteTime": {
          "end_time": "2019-09-28T19:10:37.020392Z",
          "start_time": "2019-09-28T19:10:36.889377Z"
        },
        "scrolled": true,
        "id": "ZQSPNcjF_euY",
        "outputId": "0f0be1fd-d22b-45a3-9835-799bce1f4106"
      },
      "outputs": [
        {
          "data": {
            "text/plain": [
              "0.7492944117908228"
            ]
          },
          "execution_count": 73,
          "metadata": {},
          "output_type": "execute_result"
        }
      ],
      "source": [
        "np.mean(cross_val_score(\n",
        "    LogisticRegression(solver='newton-cg'),\n",
        "    X=data.drop(['customer_id', 'response'], axis=1),\n",
        "    y=data.response,\n",
        "    cv=StratifiedKFold(n_splits=3),\n",
        "    scoring='roc_auc'))"
      ]
    },
    {
      "cell_type": "markdown",
      "metadata": {
        "id": "oL-GHSru_euY"
      },
      "source": [
        "Можно также считать дату первой и последней транзакциями пользователей, среднее время между транзакциями и прочее."
      ]
    }
  ],
  "metadata": {
    "kernelspec": {
      "display_name": "Python 3 (ipykernel)",
      "language": "python",
      "name": "python3"
    },
    "language_info": {
      "codemirror_mode": {
        "name": "ipython",
        "version": 3
      },
      "file_extension": ".py",
      "mimetype": "text/x-python",
      "name": "python",
      "nbconvert_exporter": "python",
      "pygments_lexer": "ipython3",
      "version": "3.8.10"
    },
    "toc": {
      "base_numbering": 1,
      "nav_menu": {},
      "number_sections": true,
      "sideBar": true,
      "skip_h1_title": false,
      "title_cell": "Table of Contents",
      "title_sidebar": "Contents",
      "toc_cell": false,
      "toc_position": {},
      "toc_section_display": true,
      "toc_window_display": true
    },
    "varInspector": {
      "cols": {
        "lenName": 16,
        "lenType": 16,
        "lenVar": 40
      },
      "kernels_config": {
        "python": {
          "delete_cmd_postfix": "",
          "delete_cmd_prefix": "del ",
          "library": "var_list.py",
          "varRefreshCmd": "print(var_dic_list())"
        },
        "r": {
          "delete_cmd_postfix": ") ",
          "delete_cmd_prefix": "rm(",
          "library": "var_list.r",
          "varRefreshCmd": "cat(var_dic_list()) "
        }
      },
      "position": {
        "height": "144px",
        "left": "792px",
        "right": "20px",
        "top": "166px",
        "width": "350px"
      },
      "types_to_exclude": [
        "module",
        "function",
        "builtin_function_or_method",
        "instance",
        "_Feature"
      ],
      "window_display": false
    },
    "colab": {
      "provenance": []
    }
  },
  "nbformat": 4,
  "nbformat_minor": 0
}