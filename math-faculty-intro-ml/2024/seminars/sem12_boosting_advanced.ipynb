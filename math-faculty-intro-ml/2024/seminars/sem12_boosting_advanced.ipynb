{
  "cells": [
    {
      "cell_type": "markdown",
      "metadata": {
        "id": "AXpnLZzI8Bq1"
      },
      "source": [
        "#Семинар 15: Различные реализации градиентного бустинга"
      ]
    },
    {
      "cell_type": "markdown",
      "source": [
        "Раньше для использования градиентного бустинга необходимо было самостоятельно имплементировать алгоритм. Этим занимались и в крупных корпорациях, которые использовали машинное обучение в своих задачах (например, Microsoft и Яндекс). Некоторые из этих модифицированных имплементаций вышли в open osurce и чаще всего именно они используются на практике. В настоящее время наиболее популярные следующие реализации:\n",
        "* XGboost + подбор гиперпараметров\n",
        "* CatBoost + SHAP\n",
        "* LightGBM"
      ],
      "metadata": {
        "id": "VzACXMgw-g8E"
      }
    },
    {
      "cell_type": "markdown",
      "metadata": {
        "id": "TmkYL_YT8Bq3"
      },
      "source": [
        "![\"История\"](https://github.com/hse-ds/iad-intro-ds/blob/master/2023/seminars/sem15_boosting_part2/bst.png?raw=1)"
      ]
    },
    {
      "cell_type": "markdown",
      "metadata": {
        "id": "OZzOjKsW8Bq3"
      },
      "source": [
        "## 1. XGboost + подбор гиперпараметров\n",
        "\n",
        "Код по xgboost основан на статье https://www.analyticsvidhya.com/blog/2016/03/complete-guide-parameter-tuning-xgboost-with-codes-python/"
      ]
    },
    {
      "cell_type": "markdown",
      "metadata": {
        "id": "DWtuw5hO8Bq3"
      },
      "source": [
        "Основные особенности xgboost:\n",
        "* базовый алгоритм приближает направление, посчитанное с учетом второй производной функции потерь\n",
        "\n",
        "* функционал регуляризуется – добавляются штрафы за количество листьев и за норму коэффициентов\n",
        "\n",
        "* при построении дерева используется критерий информативности, зависящий от оптимального вектора сдвига\n",
        "\n",
        "* критерий останова при обучении дерева также зависит от оптимального сдвига\n",
        "\n",
        "Почитать подробнее тут: https://github.com/esokolov/ml-course-hse/blob/master/2020-fall/lecture-notes/lecture10-ensembles.pdf"
      ]
    },
    {
      "cell_type": "code",
      "execution_count": 1,
      "metadata": {
        "id": "pTUIEvmz8Bq4",
        "colab": {
          "base_uri": "https://localhost:8080/"
        },
        "outputId": "8bc10263-31e2-4694-e55b-ec91afaea34b"
      },
      "outputs": [
        {
          "output_type": "stream",
          "name": "stdout",
          "text": [
            "Populating the interactive namespace from numpy and matplotlib\n"
          ]
        },
        {
          "output_type": "stream",
          "name": "stderr",
          "text": [
            "/usr/local/lib/python3.10/dist-packages/IPython/core/magics/pylab.py:159: UserWarning: pylab import has clobbered these variables: ['plot']\n",
            "`%matplotlib` prevents importing * from pylab and numpy\n",
            "  warn(\"pylab import has clobbered these variables: %s\"  % clobbered +\n"
          ]
        }
      ],
      "source": [
        "import os\n",
        "\n",
        "import numpy as np\n",
        "import pandas as pd\n",
        "from matplotlib import pylab as plot\n",
        "\n",
        "%pylab inline\n",
        "\n",
        "import xgboost as xgb\n",
        "from xgboost.sklearn import XGBClassifier"
      ]
    },
    {
      "cell_type": "markdown",
      "metadata": {
        "id": "qSp_ID198Bq5"
      },
      "source": [
        "Рассмотрим применение данной реализации на примере задачи классификации: по различным характеристикам клиента попытаемся определить, выплатит он долг или нет."
      ]
    },
    {
      "cell_type": "code",
      "execution_count": 3,
      "metadata": {
        "id": "AhYlLc8Y8Bq5",
        "colab": {
          "base_uri": "https://localhost:8080/"
        },
        "outputId": "2d05a8ad-a8c0-453d-f856-3fd9803e2a72"
      },
      "outputs": [
        {
          "output_type": "execute_result",
          "data": {
            "text/plain": [
              "(24365, 10443)"
            ]
          },
          "metadata": {},
          "execution_count": 3
        }
      ],
      "source": [
        "X_train = pd.read_csv(\"https://raw.githubusercontent.com/hse-ds/iad-intro-ds/master/2023/seminars/sem15_boosting_part2/train_small.csv\")\n",
        "X_test = pd.read_csv(\"https://raw.githubusercontent.com/hse-ds/iad-intro-ds/master/2023/seminars/sem15_boosting_part2/test_small.csv\")\n",
        "len(X_train), len(X_test)"
      ]
    },
    {
      "cell_type": "code",
      "execution_count": 4,
      "metadata": {
        "id": "m9tGqTk38Bq5",
        "colab": {
          "base_uri": "https://localhost:8080/",
          "height": 255
        },
        "outputId": "fd21d229-fe8f-4023-cab4-dff3a77826a6"
      },
      "outputs": [
        {
          "output_type": "execute_result",
          "data": {
            "text/plain": [
              "   Existing_EMI  Loan_Amount_Applied  Loan_Tenure_Applied  Monthly_Income  \\\n",
              "0           0.0             250000.0                  5.0           23200   \n",
              "1           0.0                  0.0                  0.0           25000   \n",
              "2           0.0                  0.0                  0.0           95000   \n",
              "3           0.0                  0.0                  0.0           29880   \n",
              "4        4500.0             100000.0                  3.0           30000   \n",
              "\n",
              "   Var4  Var5  Age  EMI_Loan_Submitted_Missing  Interest_Rate_Missing  \\\n",
              "0     2     3   28                           1                      1   \n",
              "1     0     0   33                           1                      1   \n",
              "2     3     7   39                           1                      1   \n",
              "3     5     3   28                           0                      0   \n",
              "4     5    10   26                           0                      0   \n",
              "\n",
              "   Loan_Amount_Submitted_Missing  ...  Var2_4  Var2_5  Var2_6  \\\n",
              "0                              0  ...       0       0       0   \n",
              "1                              1  ...       0       0       1   \n",
              "2                              0  ...       0       0       1   \n",
              "3                              0  ...       0       0       0   \n",
              "4                              0  ...       0       0       1   \n",
              "\n",
              "   Mobile_Verified_0  Mobile_Verified_1  Source_0  Source_1  Source_2  \\\n",
              "0                  0                  1         0         1         0   \n",
              "1                  0                  1         1         0         0   \n",
              "2                  0                  1         1         0         0   \n",
              "3                  0                  1         0         1         0   \n",
              "4                  0                  1         1         0         0   \n",
              "\n",
              "   Disbursed     ID  \n",
              "0        0.0   8161  \n",
              "1        0.0  77530  \n",
              "2        0.0  80633  \n",
              "3        0.0  45059  \n",
              "4        0.0  54857  \n",
              "\n",
              "[5 rows x 51 columns]"
            ],
            "text/html": [
              "\n",
              "  <div id=\"df-52fd1410-4800-466a-8518-e2612ff54192\" class=\"colab-df-container\">\n",
              "    <div>\n",
              "<style scoped>\n",
              "    .dataframe tbody tr th:only-of-type {\n",
              "        vertical-align: middle;\n",
              "    }\n",
              "\n",
              "    .dataframe tbody tr th {\n",
              "        vertical-align: top;\n",
              "    }\n",
              "\n",
              "    .dataframe thead th {\n",
              "        text-align: right;\n",
              "    }\n",
              "</style>\n",
              "<table border=\"1\" class=\"dataframe\">\n",
              "  <thead>\n",
              "    <tr style=\"text-align: right;\">\n",
              "      <th></th>\n",
              "      <th>Existing_EMI</th>\n",
              "      <th>Loan_Amount_Applied</th>\n",
              "      <th>Loan_Tenure_Applied</th>\n",
              "      <th>Monthly_Income</th>\n",
              "      <th>Var4</th>\n",
              "      <th>Var5</th>\n",
              "      <th>Age</th>\n",
              "      <th>EMI_Loan_Submitted_Missing</th>\n",
              "      <th>Interest_Rate_Missing</th>\n",
              "      <th>Loan_Amount_Submitted_Missing</th>\n",
              "      <th>...</th>\n",
              "      <th>Var2_4</th>\n",
              "      <th>Var2_5</th>\n",
              "      <th>Var2_6</th>\n",
              "      <th>Mobile_Verified_0</th>\n",
              "      <th>Mobile_Verified_1</th>\n",
              "      <th>Source_0</th>\n",
              "      <th>Source_1</th>\n",
              "      <th>Source_2</th>\n",
              "      <th>Disbursed</th>\n",
              "      <th>ID</th>\n",
              "    </tr>\n",
              "  </thead>\n",
              "  <tbody>\n",
              "    <tr>\n",
              "      <th>0</th>\n",
              "      <td>0.0</td>\n",
              "      <td>250000.0</td>\n",
              "      <td>5.0</td>\n",
              "      <td>23200</td>\n",
              "      <td>2</td>\n",
              "      <td>3</td>\n",
              "      <td>28</td>\n",
              "      <td>1</td>\n",
              "      <td>1</td>\n",
              "      <td>0</td>\n",
              "      <td>...</td>\n",
              "      <td>0</td>\n",
              "      <td>0</td>\n",
              "      <td>0</td>\n",
              "      <td>0</td>\n",
              "      <td>1</td>\n",
              "      <td>0</td>\n",
              "      <td>1</td>\n",
              "      <td>0</td>\n",
              "      <td>0.0</td>\n",
              "      <td>8161</td>\n",
              "    </tr>\n",
              "    <tr>\n",
              "      <th>1</th>\n",
              "      <td>0.0</td>\n",
              "      <td>0.0</td>\n",
              "      <td>0.0</td>\n",
              "      <td>25000</td>\n",
              "      <td>0</td>\n",
              "      <td>0</td>\n",
              "      <td>33</td>\n",
              "      <td>1</td>\n",
              "      <td>1</td>\n",
              "      <td>1</td>\n",
              "      <td>...</td>\n",
              "      <td>0</td>\n",
              "      <td>0</td>\n",
              "      <td>1</td>\n",
              "      <td>0</td>\n",
              "      <td>1</td>\n",
              "      <td>1</td>\n",
              "      <td>0</td>\n",
              "      <td>0</td>\n",
              "      <td>0.0</td>\n",
              "      <td>77530</td>\n",
              "    </tr>\n",
              "    <tr>\n",
              "      <th>2</th>\n",
              "      <td>0.0</td>\n",
              "      <td>0.0</td>\n",
              "      <td>0.0</td>\n",
              "      <td>95000</td>\n",
              "      <td>3</td>\n",
              "      <td>7</td>\n",
              "      <td>39</td>\n",
              "      <td>1</td>\n",
              "      <td>1</td>\n",
              "      <td>0</td>\n",
              "      <td>...</td>\n",
              "      <td>0</td>\n",
              "      <td>0</td>\n",
              "      <td>1</td>\n",
              "      <td>0</td>\n",
              "      <td>1</td>\n",
              "      <td>1</td>\n",
              "      <td>0</td>\n",
              "      <td>0</td>\n",
              "      <td>0.0</td>\n",
              "      <td>80633</td>\n",
              "    </tr>\n",
              "    <tr>\n",
              "      <th>3</th>\n",
              "      <td>0.0</td>\n",
              "      <td>0.0</td>\n",
              "      <td>0.0</td>\n",
              "      <td>29880</td>\n",
              "      <td>5</td>\n",
              "      <td>3</td>\n",
              "      <td>28</td>\n",
              "      <td>0</td>\n",
              "      <td>0</td>\n",
              "      <td>0</td>\n",
              "      <td>...</td>\n",
              "      <td>0</td>\n",
              "      <td>0</td>\n",
              "      <td>0</td>\n",
              "      <td>0</td>\n",
              "      <td>1</td>\n",
              "      <td>0</td>\n",
              "      <td>1</td>\n",
              "      <td>0</td>\n",
              "      <td>0.0</td>\n",
              "      <td>45059</td>\n",
              "    </tr>\n",
              "    <tr>\n",
              "      <th>4</th>\n",
              "      <td>4500.0</td>\n",
              "      <td>100000.0</td>\n",
              "      <td>3.0</td>\n",
              "      <td>30000</td>\n",
              "      <td>5</td>\n",
              "      <td>10</td>\n",
              "      <td>26</td>\n",
              "      <td>0</td>\n",
              "      <td>0</td>\n",
              "      <td>0</td>\n",
              "      <td>...</td>\n",
              "      <td>0</td>\n",
              "      <td>0</td>\n",
              "      <td>1</td>\n",
              "      <td>0</td>\n",
              "      <td>1</td>\n",
              "      <td>1</td>\n",
              "      <td>0</td>\n",
              "      <td>0</td>\n",
              "      <td>0.0</td>\n",
              "      <td>54857</td>\n",
              "    </tr>\n",
              "  </tbody>\n",
              "</table>\n",
              "<p>5 rows × 51 columns</p>\n",
              "</div>\n",
              "    <div class=\"colab-df-buttons\">\n",
              "\n",
              "  <div class=\"colab-df-container\">\n",
              "    <button class=\"colab-df-convert\" onclick=\"convertToInteractive('df-52fd1410-4800-466a-8518-e2612ff54192')\"\n",
              "            title=\"Convert this dataframe to an interactive table.\"\n",
              "            style=\"display:none;\">\n",
              "\n",
              "  <svg xmlns=\"http://www.w3.org/2000/svg\" height=\"24px\" viewBox=\"0 -960 960 960\">\n",
              "    <path d=\"M120-120v-720h720v720H120Zm60-500h600v-160H180v160Zm220 220h160v-160H400v160Zm0 220h160v-160H400v160ZM180-400h160v-160H180v160Zm440 0h160v-160H620v160ZM180-180h160v-160H180v160Zm440 0h160v-160H620v160Z\"/>\n",
              "  </svg>\n",
              "    </button>\n",
              "\n",
              "  <style>\n",
              "    .colab-df-container {\n",
              "      display:flex;\n",
              "      gap: 12px;\n",
              "    }\n",
              "\n",
              "    .colab-df-convert {\n",
              "      background-color: #E8F0FE;\n",
              "      border: none;\n",
              "      border-radius: 50%;\n",
              "      cursor: pointer;\n",
              "      display: none;\n",
              "      fill: #1967D2;\n",
              "      height: 32px;\n",
              "      padding: 0 0 0 0;\n",
              "      width: 32px;\n",
              "    }\n",
              "\n",
              "    .colab-df-convert:hover {\n",
              "      background-color: #E2EBFA;\n",
              "      box-shadow: 0px 1px 2px rgba(60, 64, 67, 0.3), 0px 1px 3px 1px rgba(60, 64, 67, 0.15);\n",
              "      fill: #174EA6;\n",
              "    }\n",
              "\n",
              "    .colab-df-buttons div {\n",
              "      margin-bottom: 4px;\n",
              "    }\n",
              "\n",
              "    [theme=dark] .colab-df-convert {\n",
              "      background-color: #3B4455;\n",
              "      fill: #D2E3FC;\n",
              "    }\n",
              "\n",
              "    [theme=dark] .colab-df-convert:hover {\n",
              "      background-color: #434B5C;\n",
              "      box-shadow: 0px 1px 3px 1px rgba(0, 0, 0, 0.15);\n",
              "      filter: drop-shadow(0px 1px 2px rgba(0, 0, 0, 0.3));\n",
              "      fill: #FFFFFF;\n",
              "    }\n",
              "  </style>\n",
              "\n",
              "    <script>\n",
              "      const buttonEl =\n",
              "        document.querySelector('#df-52fd1410-4800-466a-8518-e2612ff54192 button.colab-df-convert');\n",
              "      buttonEl.style.display =\n",
              "        google.colab.kernel.accessAllowed ? 'block' : 'none';\n",
              "\n",
              "      async function convertToInteractive(key) {\n",
              "        const element = document.querySelector('#df-52fd1410-4800-466a-8518-e2612ff54192');\n",
              "        const dataTable =\n",
              "          await google.colab.kernel.invokeFunction('convertToInteractive',\n",
              "                                                    [key], {});\n",
              "        if (!dataTable) return;\n",
              "\n",
              "        const docLinkHtml = 'Like what you see? Visit the ' +\n",
              "          '<a target=\"_blank\" href=https://colab.research.google.com/notebooks/data_table.ipynb>data table notebook</a>'\n",
              "          + ' to learn more about interactive tables.';\n",
              "        element.innerHTML = '';\n",
              "        dataTable['output_type'] = 'display_data';\n",
              "        await google.colab.output.renderOutput(dataTable, element);\n",
              "        const docLink = document.createElement('div');\n",
              "        docLink.innerHTML = docLinkHtml;\n",
              "        element.appendChild(docLink);\n",
              "      }\n",
              "    </script>\n",
              "  </div>\n",
              "\n",
              "\n",
              "<div id=\"df-9283d6bd-a2fc-45dc-8be6-bcd4d6cfd609\">\n",
              "  <button class=\"colab-df-quickchart\" onclick=\"quickchart('df-9283d6bd-a2fc-45dc-8be6-bcd4d6cfd609')\"\n",
              "            title=\"Suggest charts\"\n",
              "            style=\"display:none;\">\n",
              "\n",
              "<svg xmlns=\"http://www.w3.org/2000/svg\" height=\"24px\"viewBox=\"0 0 24 24\"\n",
              "     width=\"24px\">\n",
              "    <g>\n",
              "        <path d=\"M19 3H5c-1.1 0-2 .9-2 2v14c0 1.1.9 2 2 2h14c1.1 0 2-.9 2-2V5c0-1.1-.9-2-2-2zM9 17H7v-7h2v7zm4 0h-2V7h2v10zm4 0h-2v-4h2v4z\"/>\n",
              "    </g>\n",
              "</svg>\n",
              "  </button>\n",
              "\n",
              "<style>\n",
              "  .colab-df-quickchart {\n",
              "      --bg-color: #E8F0FE;\n",
              "      --fill-color: #1967D2;\n",
              "      --hover-bg-color: #E2EBFA;\n",
              "      --hover-fill-color: #174EA6;\n",
              "      --disabled-fill-color: #AAA;\n",
              "      --disabled-bg-color: #DDD;\n",
              "  }\n",
              "\n",
              "  [theme=dark] .colab-df-quickchart {\n",
              "      --bg-color: #3B4455;\n",
              "      --fill-color: #D2E3FC;\n",
              "      --hover-bg-color: #434B5C;\n",
              "      --hover-fill-color: #FFFFFF;\n",
              "      --disabled-bg-color: #3B4455;\n",
              "      --disabled-fill-color: #666;\n",
              "  }\n",
              "\n",
              "  .colab-df-quickchart {\n",
              "    background-color: var(--bg-color);\n",
              "    border: none;\n",
              "    border-radius: 50%;\n",
              "    cursor: pointer;\n",
              "    display: none;\n",
              "    fill: var(--fill-color);\n",
              "    height: 32px;\n",
              "    padding: 0;\n",
              "    width: 32px;\n",
              "  }\n",
              "\n",
              "  .colab-df-quickchart:hover {\n",
              "    background-color: var(--hover-bg-color);\n",
              "    box-shadow: 0 1px 2px rgba(60, 64, 67, 0.3), 0 1px 3px 1px rgba(60, 64, 67, 0.15);\n",
              "    fill: var(--button-hover-fill-color);\n",
              "  }\n",
              "\n",
              "  .colab-df-quickchart-complete:disabled,\n",
              "  .colab-df-quickchart-complete:disabled:hover {\n",
              "    background-color: var(--disabled-bg-color);\n",
              "    fill: var(--disabled-fill-color);\n",
              "    box-shadow: none;\n",
              "  }\n",
              "\n",
              "  .colab-df-spinner {\n",
              "    border: 2px solid var(--fill-color);\n",
              "    border-color: transparent;\n",
              "    border-bottom-color: var(--fill-color);\n",
              "    animation:\n",
              "      spin 1s steps(1) infinite;\n",
              "  }\n",
              "\n",
              "  @keyframes spin {\n",
              "    0% {\n",
              "      border-color: transparent;\n",
              "      border-bottom-color: var(--fill-color);\n",
              "      border-left-color: var(--fill-color);\n",
              "    }\n",
              "    20% {\n",
              "      border-color: transparent;\n",
              "      border-left-color: var(--fill-color);\n",
              "      border-top-color: var(--fill-color);\n",
              "    }\n",
              "    30% {\n",
              "      border-color: transparent;\n",
              "      border-left-color: var(--fill-color);\n",
              "      border-top-color: var(--fill-color);\n",
              "      border-right-color: var(--fill-color);\n",
              "    }\n",
              "    40% {\n",
              "      border-color: transparent;\n",
              "      border-right-color: var(--fill-color);\n",
              "      border-top-color: var(--fill-color);\n",
              "    }\n",
              "    60% {\n",
              "      border-color: transparent;\n",
              "      border-right-color: var(--fill-color);\n",
              "    }\n",
              "    80% {\n",
              "      border-color: transparent;\n",
              "      border-right-color: var(--fill-color);\n",
              "      border-bottom-color: var(--fill-color);\n",
              "    }\n",
              "    90% {\n",
              "      border-color: transparent;\n",
              "      border-bottom-color: var(--fill-color);\n",
              "    }\n",
              "  }\n",
              "</style>\n",
              "\n",
              "  <script>\n",
              "    async function quickchart(key) {\n",
              "      const quickchartButtonEl =\n",
              "        document.querySelector('#' + key + ' button');\n",
              "      quickchartButtonEl.disabled = true;  // To prevent multiple clicks.\n",
              "      quickchartButtonEl.classList.add('colab-df-spinner');\n",
              "      try {\n",
              "        const charts = await google.colab.kernel.invokeFunction(\n",
              "            'suggestCharts', [key], {});\n",
              "      } catch (error) {\n",
              "        console.error('Error during call to suggestCharts:', error);\n",
              "      }\n",
              "      quickchartButtonEl.classList.remove('colab-df-spinner');\n",
              "      quickchartButtonEl.classList.add('colab-df-quickchart-complete');\n",
              "    }\n",
              "    (() => {\n",
              "      let quickchartButtonEl =\n",
              "        document.querySelector('#df-9283d6bd-a2fc-45dc-8be6-bcd4d6cfd609 button');\n",
              "      quickchartButtonEl.style.display =\n",
              "        google.colab.kernel.accessAllowed ? 'block' : 'none';\n",
              "    })();\n",
              "  </script>\n",
              "</div>\n",
              "    </div>\n",
              "  </div>\n"
            ],
            "application/vnd.google.colaboratory.intrinsic+json": {
              "type": "dataframe",
              "variable_name": "X_train"
            }
          },
          "metadata": {},
          "execution_count": 4
        }
      ],
      "source": [
        "X_train.head()"
      ]
    },
    {
      "cell_type": "markdown",
      "metadata": {
        "id": "JRA2rW4L8Bq5"
      },
      "source": [
        "Вспомним, что для того, чтобы бустинг показал хорошее качество и не переобучился, необходимо аккуратно подобрать его гиперпараметры.\n",
        "\n",
        "Алгоритм подбора гиперпараметров может быть следующим:\n",
        "\n",
        "* Выбираем относительно большую learning_rate ($ \\eta \\in [0.05, 0.3]$), подбираем оптимальное число деревьев для выбранного $ \\eta $\n",
        "\n",
        "* Настраиваем параметры деревьев, начиная с самых значимых (max_depth, min_child_weight, gamma, subsample, colsample_bytree)\n",
        "\n",
        "* Настраиваем регуляризации ($ \\lambda, \\alpha $)\n",
        "\n",
        "* Уменьшаем learning_rate, пропорционально увеличиваем число деревьев"
      ]
    },
    {
      "cell_type": "code",
      "execution_count": 5,
      "metadata": {
        "id": "YFyIzsYD8Bq6"
      },
      "outputs": [],
      "source": [
        "model_xgb = XGBClassifier(\n",
        "    learning_rate=0.1,\n",
        "    n_estimators=150,\n",
        "    objective=\"binary:logistic\",\n",
        "    nthread=-1,\n",
        "    scale_pos_weight=1,\n",
        "    seed=27,\n",
        ")"
      ]
    },
    {
      "cell_type": "code",
      "execution_count": 8,
      "metadata": {
        "id": "5Xq59qB_8Bq6"
      },
      "outputs": [],
      "source": [
        "target = \"Disbursed\"\n",
        "IDcol = \"ID\""
      ]
    },
    {
      "cell_type": "code",
      "execution_count": 9,
      "metadata": {
        "id": "-WEZyBWi8Bq6",
        "colab": {
          "base_uri": "https://localhost:8080/"
        },
        "outputId": "c117e625-3816-4a57-cde7-2d27dc27c9d4"
      },
      "outputs": [
        {
          "output_type": "execute_result",
          "data": {
            "text/plain": [
              "(Disbursed\n",
              " 0.0    23999\n",
              " 1.0      366\n",
              " Name: count, dtype: int64,\n",
              " 24365)"
            ]
          },
          "metadata": {},
          "execution_count": 9
        }
      ],
      "source": [
        "X_train[\"Disbursed\"].value_counts(), len(X_train)"
      ]
    },
    {
      "cell_type": "markdown",
      "metadata": {
        "id": "l8OO5Ac98Bq6"
      },
      "source": [
        "Создадим функцию для моделирования и кросс-валидации\n",
        "\n",
        "Эта функция делает следующее:\n",
        "1. обучает модель\n",
        "2. вычисляет accuracy на тренировочной выборке\n",
        "3. вычисляет AUC на тренировочной выборке\n",
        "4. вычисляет AUC на тестовой выборке\n",
        "5. обновляет n_estimators с помощью встроенной в пакет xgboost функции cv\n",
        "6. строит диаграмму Feature Importance"
      ]
    },
    {
      "cell_type": "code",
      "execution_count": null,
      "metadata": {
        "id": "l-rmpjhk8Bq7"
      },
      "outputs": [],
      "source": [
        "from sklearn import metrics\n",
        "\n",
        "\n",
        "def modelfit(\n",
        "    alg,\n",
        "    dtrain,\n",
        "    dtest,\n",
        "    predictors,\n",
        "    useTrainCV=True,\n",
        "    cv_folds=5,\n",
        "    early_stopping_rounds=50,\n",
        "):\n",
        "    if useTrainCV:\n",
        "        xgb_param = alg.get_xgb_params()\n",
        "        xgtrain = xgb.DMatrix(dtrain[predictors].values, label=dtrain[target].values)\n",
        "        xgtest = xgb.DMatrix(dtest[predictors].values)\n",
        "        cvresult = xgb.cv(\n",
        "            xgb_param,\n",
        "            xgtrain,\n",
        "            num_boost_round=alg.get_params()[\"n_estimators\"],\n",
        "            nfold=cv_folds,\n",
        "            metrics=\"auc\",\n",
        "            early_stopping_rounds=early_stopping_rounds,\n",
        "        )\n",
        "        alg.set_params(n_estimators=cvresult.shape[0])\n",
        "\n",
        "    # Fit the algorithm on the data\n",
        "    alg.fit(dtrain[predictors], dtrain[\"Disbursed\"], eval_metric=\"auc\")\n",
        "\n",
        "    # Predict training set:\n",
        "    dtrain_predictions = alg.predict(dtrain[predictors])\n",
        "    dtrain_predprob = alg.predict_proba(dtrain[predictors])[:, 1]\n",
        "\n",
        "    # Print model report:\n",
        "    print(\"\\nModel Report\")\n",
        "    print(\n",
        "        \"Accuracy : %.4g\"\n",
        "        % metrics.accuracy_score(dtrain[\"Disbursed\"].values, dtrain_predictions)\n",
        "    )\n",
        "    print(\n",
        "        \"AUC Score (Train): %f\"\n",
        "        % metrics.roc_auc_score(dtrain[\"Disbursed\"], dtrain_predprob)\n",
        "    )\n",
        "\n",
        "    # Predict on testing data:\n",
        "    dtest[\"predprob\"] = alg.predict_proba(dtest[predictors])[:, 1]\n",
        "    print(\n",
        "        \"AUC Score (Test): %f\"\n",
        "        % metrics.roc_auc_score(dtest[\"Disbursed\"], dtest[\"predprob\"])\n",
        "    )\n",
        "\n",
        "    feat_imp = pd.Series(alg.get_booster().get_fscore()).sort_values(ascending=False)\n",
        "    feat_imp.plot(kind=\"bar\", title=\"Feature Importances\")\n",
        "    plt.ylabel(\"Feature Importance Score\")"
      ]
    },
    {
      "cell_type": "markdown",
      "metadata": {
        "id": "jW3tlNE68Bq7"
      },
      "source": [
        "Начинаем последовательный подбор параметров при большом learning_rate"
      ]
    },
    {
      "cell_type": "code",
      "execution_count": null,
      "metadata": {
        "id": "_r23nSHN8Bq7"
      },
      "outputs": [],
      "source": [
        "predictors = [x for x in X_train.columns if x not in [target, IDcol]]\n",
        "\n",
        "modelfit(model_xgb, X_train, X_test, predictors)"
      ]
    },
    {
      "cell_type": "markdown",
      "metadata": {
        "id": "11N7Tndr8Bq8"
      },
      "source": [
        "Перебираем max_depth и min_child_weight по сетке."
      ]
    },
    {
      "cell_type": "code",
      "execution_count": null,
      "metadata": {
        "id": "AKAcQNao8Bq8"
      },
      "outputs": [],
      "source": [
        "from sklearn.model_selection import GridSearchCV\n",
        "\n",
        "param_test1 = {\"max_depth\": range(2, 7, 2), \"min_child_weight\": range(1, 6, 2)}\n",
        "\n",
        "gsearch1 = GridSearchCV(\n",
        "    estimator=model_xgb, param_grid=param_test1, scoring=\"roc_auc\", n_jobs=-1, cv=5\n",
        ")\n",
        "\n",
        "gsearch1.fit(X_train[predictors], X_train[target])\n",
        "\n",
        "gsearch1.best_params_, gsearch1.best_score_"
      ]
    },
    {
      "cell_type": "markdown",
      "metadata": {
        "id": "Ss_jdg218Bq8"
      },
      "source": [
        "Уточняем предсказание"
      ]
    },
    {
      "cell_type": "code",
      "execution_count": null,
      "metadata": {
        "id": "ikC0-R0b8Bq8"
      },
      "outputs": [],
      "source": [
        "param_test2 = {\"max_depth\": [3, 4, 5], \"min_child_weight\": [2, 3, 4]}\n",
        "\n",
        "gsearch2 = GridSearchCV(\n",
        "    estimator=model_xgb, param_grid=param_test2, scoring=\"roc_auc\", n_jobs=-1, cv=5\n",
        ")\n",
        "\n",
        "gsearch2.fit(X_train[predictors], X_train[target])\n",
        "gsearch2.best_params_, gsearch2.best_score_"
      ]
    },
    {
      "cell_type": "markdown",
      "metadata": {
        "id": "Y2nKfT1e8Bq8"
      },
      "source": [
        "Зафиксируем найденный max_depth и min_child_weight"
      ]
    },
    {
      "cell_type": "code",
      "execution_count": null,
      "metadata": {
        "id": "KJ33BsoQ8Bq9"
      },
      "outputs": [],
      "source": [
        "model_xgb.max_depth = 5\n",
        "model_xgb.min_child_weight = 3"
      ]
    },
    {
      "cell_type": "markdown",
      "metadata": {
        "id": "csnOzPVy8Bq9"
      },
      "source": [
        "Мы подобрали max_depth и min_child_weight - дальше будем использовать подобранные значения параметров. Подберите по сетке параметр gamma на отрезке от 0 до 1."
      ]
    },
    {
      "cell_type": "code",
      "execution_count": null,
      "metadata": {
        "id": "zsrVxlzV8Bq9"
      },
      "outputs": [],
      "source": [
        "param_test3 = {\n",
        "    'gamma': # your code here\n",
        "}\n",
        "\n",
        "gsearch3b = # your code here\n",
        "\n",
        "gsearch3b.fit(X_train[predictors], X_train[target])"
      ]
    },
    {
      "cell_type": "code",
      "execution_count": null,
      "metadata": {
        "id": "ueA65F5J8Bq9"
      },
      "outputs": [],
      "source": [
        "gsearch3b.best_params_, gsearch3b.best_score_"
      ]
    },
    {
      "cell_type": "markdown",
      "metadata": {
        "id": "0UmJ1tLZ8Bq9"
      },
      "source": [
        "Установите в качестве параметра алгоритма подобранyю gamma и посмотрите как изменилось качество."
      ]
    },
    {
      "cell_type": "code",
      "execution_count": null,
      "metadata": {
        "id": "XUaCRMDA8Bq9"
      },
      "outputs": [],
      "source": [
        "predictors = [x for x in X_train.columns if x not in [target, IDcol]]\n",
        "\n",
        "# your code here\n",
        "\n",
        "modelfit(model_xgb, X_train, X_test, predictors)"
      ]
    },
    {
      "cell_type": "markdown",
      "metadata": {
        "id": "wL-AYxNF8Bq9"
      },
      "source": [
        "Подберите по сетке параметры subsample и colsample_bytree. Используйте значения этих параметров: [0.6, 0.7, 0.8, 0.9, 1.]"
      ]
    },
    {
      "cell_type": "code",
      "execution_count": null,
      "metadata": {
        "id": "wdTvHId08Bq-"
      },
      "outputs": [],
      "source": [
        "# your code here"
      ]
    },
    {
      "cell_type": "markdown",
      "metadata": {
        "id": "RtnO9Jbc8Bq-"
      },
      "source": [
        "Подберите параметр регуляризации reg_alpha. Попробуйте [1e-5, 1e-2, 0.1, 1, 100]"
      ]
    },
    {
      "cell_type": "code",
      "execution_count": null,
      "metadata": {
        "id": "OWpqqls18Bq-"
      },
      "outputs": [],
      "source": [
        "# your code here"
      ]
    },
    {
      "cell_type": "markdown",
      "metadata": {
        "id": "oFlfY3No8Bq-"
      },
      "source": [
        "Запустите обучение и предсказание на найденных параметрах и посмотрите на качество."
      ]
    },
    {
      "cell_type": "code",
      "execution_count": null,
      "metadata": {
        "id": "nCO55aIM8Bq-"
      },
      "outputs": [],
      "source": [
        "# your code here\n",
        "\n",
        "modelfit(model_xgb, X_train, X_test, predictors)"
      ]
    },
    {
      "cell_type": "markdown",
      "metadata": {
        "id": "iOfUPALL8Bq-"
      },
      "source": [
        "Уменьшите learning_rate до 0.01 и пропорционально увеличьте число деревьев. Все подобранные параметры остаются такими же. Обучите модель и сделайте предсказание. Посмотрите на качество."
      ]
    },
    {
      "cell_type": "code",
      "execution_count": null,
      "metadata": {
        "id": "KRWNDxFj8Bq-"
      },
      "outputs": [],
      "source": [
        "# Your code here\n",
        "\n",
        "modelfit(model_xgb, X_train, X_test, predictors)"
      ]
    },
    {
      "cell_type": "markdown",
      "metadata": {
        "id": "pGnOCvsm8Bq_"
      },
      "source": [
        "## 2. CatBoost\n",
        "\n",
        "Ноутбук из официальной документации здесь: https://github.com/catboost/tutorials/blob/master/classification/classification_tutorial.ipynb\n",
        "\n",
        "Особенности катбуста:\n",
        "\n",
        "* используются симметричные деревья решений\n",
        "\n",
        "* для кодирования категориальных признаков используется большой набор методов\n",
        "\n",
        "* динамический бустинг\n",
        "\n",
        "Благодаря использованию симметричных деревьев и динамическому бустингу катбуст гораздо более устойчив к переобучению, чем другие имплементации градиентного бустинга. Поэтому он показывает хорошее качество даже при дефолтных параметрах.\n",
        "\n",
        "Посмотреть видео про катбуст: https://yandex.ru/video/preview/?filmId=10919886479285152550&from=tabbar&text=catboost+анна+вероника"
      ]
    },
    {
      "cell_type": "markdown",
      "metadata": {
        "id": "hUzVcEC18Bq_"
      },
      "source": [
        "Устанавливаем библиотеки"
      ]
    },
    {
      "cell_type": "code",
      "execution_count": null,
      "metadata": {
        "id": "n0w0ZQ1v8Bq_"
      },
      "outputs": [],
      "source": [
        "!pip install --upgrade catboost\n",
        "!pip install --upgrade ipywidgets\n",
        "!pip install shap\n",
        "!pip install sklearn\n",
        "!pip install --upgrade numpy\n",
        "!jupyter nbextension enable --py widgetsnbextension"
      ]
    },
    {
      "cell_type": "code",
      "execution_count": null,
      "metadata": {
        "id": "K34qIRSH8Bq_",
        "colab": {
          "base_uri": "https://localhost:8080/"
        },
        "outputId": "24b4714a-cef8-4c2c-be4a-6a84e5acdb55"
      },
      "outputs": [
        {
          "output_type": "stream",
          "name": "stdout",
          "text": [
            "Populating the interactive namespace from numpy and matplotlib\n"
          ]
        },
        {
          "output_type": "stream",
          "name": "stderr",
          "text": [
            "/usr/local/lib/python3.10/dist-packages/IPython/core/magics/pylab.py:159: UserWarning: pylab import has clobbered these variables: ['plt']\n",
            "`%matplotlib` prevents importing * from pylab and numpy\n",
            "  warn(\"pylab import has clobbered these variables: %s\"  % clobbered +\n"
          ]
        }
      ],
      "source": [
        "from matplotlib import pylab as plt\n",
        "\n",
        "%pylab inline"
      ]
    },
    {
      "cell_type": "code",
      "execution_count": null,
      "metadata": {
        "id": "h_dlmiw-8BrA"
      },
      "outputs": [],
      "source": [
        "import os\n",
        "\n",
        "import numpy as np\n",
        "import pandas as pd\n",
        "\n",
        "np.set_printoptions(precision=4)\n",
        "import catboost\n",
        "from catboost import *\n",
        "from catboost import datasets"
      ]
    },
    {
      "cell_type": "markdown",
      "metadata": {
        "id": "TDFHZKUD8BrA"
      },
      "source": [
        "Считываем данные. Данные содержат только категориальные признаки, причем с большим количеством категорий. Признаки - закодированные характеристики сотрудника и некоторого ресурса, целевая переменная - есть ли у сотрудника доступ к ресурсу."
      ]
    },
    {
      "cell_type": "code",
      "execution_count": null,
      "metadata": {
        "id": "chRW9M-l8BrA"
      },
      "outputs": [],
      "source": [
        "(train_df, test_df) = catboost.datasets.amazon()"
      ]
    },
    {
      "cell_type": "code",
      "execution_count": null,
      "metadata": {
        "id": "P-P4PmLV8BrA"
      },
      "outputs": [],
      "source": [
        "train_df.head()"
      ]
    },
    {
      "cell_type": "markdown",
      "metadata": {
        "id": "iW9Nll0M8BrA"
      },
      "source": [
        "Готовим данные"
      ]
    },
    {
      "cell_type": "code",
      "execution_count": null,
      "metadata": {
        "id": "S-N9zJ7x8BrB"
      },
      "outputs": [],
      "source": [
        "y = train_df.ACTION\n",
        "X = train_df.drop(\"ACTION\", axis=1)"
      ]
    },
    {
      "cell_type": "markdown",
      "metadata": {
        "id": "4wzKinKB8BrB"
      },
      "source": [
        "Создаем список категориальных фичей"
      ]
    },
    {
      "cell_type": "code",
      "execution_count": null,
      "metadata": {
        "id": "LH3n-xyw8BrB"
      },
      "outputs": [],
      "source": [
        "cat_features = list(range(0, X.shape[1]))\n",
        "print(cat_features)"
      ]
    },
    {
      "cell_type": "markdown",
      "metadata": {
        "id": "b2ElgLfl8BrB"
      },
      "source": [
        "Смотрим на соотношение классов"
      ]
    },
    {
      "cell_type": "code",
      "execution_count": null,
      "metadata": {
        "id": "C3Ggedle8BrB"
      },
      "outputs": [],
      "source": [
        "print(\"Labels: {}\".format(set(y)))\n",
        "print(\"Zero count = {}, One count = {}\".format(len(y) - sum(y), sum(y)))"
      ]
    },
    {
      "cell_type": "markdown",
      "metadata": {
        "id": "07evr0FF8BrC"
      },
      "source": [
        "В catboost используется абстракция Pool - это объект, который содержит матрицу объект-признак X, вектор ответов, список номеров колонок с категориальными признаками."
      ]
    },
    {
      "cell_type": "code",
      "execution_count": null,
      "metadata": {
        "id": "Q9y_vow48BrC"
      },
      "outputs": [],
      "source": [
        "pool1 = Pool(data=X, label=y, cat_features=cat_features)\n",
        "\n",
        "pool2 = Pool(data=X, cat_features=cat_features)\n",
        "\n",
        "# Fastest way to create a Pool is to create it from numpy matrix.\n",
        "# This way should be used if you want fast predictions\n",
        "# or fastest way to load the data in python.\n",
        "\n",
        "X_prepared = X.values.astype(str).astype(object)\n",
        "# For FeaturesData class categorial features must have type str\n",
        "\n",
        "pool3 = Pool(\n",
        "    data=FeaturesData(cat_feature_data=X_prepared, cat_feature_names=list(X)),\n",
        "    label=y.values,\n",
        ")\n",
        "\n",
        "print(\"Dataset shape\")\n",
        "print(\n",
        "    \"dataset 1:\"\n",
        "    + str(pool1.shape)\n",
        "    + \"\\ndataset 2:\"\n",
        "    + str(pool2.shape)\n",
        "    + \"\\ndataset 3: \"\n",
        "    + str(pool3.shape)\n",
        ")\n",
        "\n",
        "print(\"\\n\")\n",
        "print(\"Column names\")\n",
        "print(\"dataset 1:\")\n",
        "print(pool1.get_feature_names())\n",
        "print(\"\\ndataset 2:\")\n",
        "print(pool2.get_feature_names())\n",
        "print(\"\\ndataset 3:\")\n",
        "print(pool3.get_feature_names())"
      ]
    },
    {
      "cell_type": "markdown",
      "metadata": {
        "id": "IzAigNPO8BrC"
      },
      "source": [
        "Разбиваем данные на train и validation"
      ]
    },
    {
      "cell_type": "code",
      "execution_count": null,
      "metadata": {
        "id": "skzjWMOt8BrC"
      },
      "outputs": [],
      "source": [
        "from sklearn.model_selection import train_test_split\n",
        "\n",
        "X_train, X_validation, y_train, y_validation = train_test_split(\n",
        "    X, y, train_size=0.8, random_state=42\n",
        ")"
      ]
    },
    {
      "cell_type": "markdown",
      "metadata": {
        "id": "c9eFWHrG8BrC"
      },
      "source": [
        "Выбираем функцию потерь"
      ]
    },
    {
      "cell_type": "markdown",
      "metadata": {
        "id": "jOam1-R28BrD"
      },
      "source": [
        "Для бинарной классификации можем использовать:\n",
        "\n",
        "* `Logloss`\n",
        "\n",
        "* `CrossEntropy`"
      ]
    },
    {
      "cell_type": "code",
      "execution_count": null,
      "metadata": {
        "id": "CxDdrYAq8BrD"
      },
      "outputs": [],
      "source": [
        "from catboost import CatBoostClassifier\n",
        "\n",
        "model = CatBoostClassifier(iterations=10, learning_rate=0.1)\n",
        "model.fit(\n",
        "    X_train,\n",
        "    y_train,\n",
        "    cat_features=cat_features,\n",
        "    eval_set=(X_validation, y_validation),\n",
        "    verbose=False,\n",
        ")\n",
        "print(\"Model is fitted: \" + str(model.is_fitted()))\n",
        "print(\"Model params:\")\n",
        "print(model.get_params())"
      ]
    },
    {
      "cell_type": "markdown",
      "metadata": {
        "id": "1-5-4Ejc8BrD"
      },
      "source": [
        "Печать результатов"
      ]
    },
    {
      "cell_type": "code",
      "execution_count": null,
      "metadata": {
        "scrolled": false,
        "id": "1adz0LQQ8BrD"
      },
      "outputs": [],
      "source": [
        "model.fit(\n",
        "    X_train,\n",
        "    y_train,\n",
        "    cat_features=cat_features,\n",
        "    eval_set=(X_validation, y_validation),\n",
        ")"
      ]
    },
    {
      "cell_type": "markdown",
      "metadata": {
        "id": "V8Onxntp8BrD"
      },
      "source": [
        "Визуализация метрик"
      ]
    },
    {
      "cell_type": "code",
      "execution_count": null,
      "metadata": {
        "id": "jm90ObZJ8BrD"
      },
      "outputs": [],
      "source": [
        "model.fit(\n",
        "    X_train,\n",
        "    y_train,\n",
        "    cat_features=cat_features,\n",
        "    eval_set=(X_validation, y_validation),\n",
        "    verbose=False,\n",
        "    plot=True,\n",
        ")"
      ]
    },
    {
      "cell_type": "markdown",
      "metadata": {
        "id": "gSMqeW968BrE"
      },
      "source": [
        "Сравнение моделей"
      ]
    },
    {
      "cell_type": "code",
      "execution_count": null,
      "metadata": {
        "id": "SW_77kOn8BrE"
      },
      "outputs": [],
      "source": [
        "model1 = CatBoostClassifier(\n",
        "    learning_rate=0.1, iterations=100, random_seed=0, train_dir=\"learing_rate_0.1\"\n",
        ")\n",
        "\n",
        "model2 = CatBoostClassifier(\n",
        "    learning_rate=0.07, iterations=100, random_seed=0, train_dir=\"learing_rate_0.07\"\n",
        ")\n",
        "model1.fit(\n",
        "    X_train,\n",
        "    y_train,\n",
        "    eval_set=(X_validation, y_validation),\n",
        "    cat_features=cat_features,\n",
        "    verbose=False,\n",
        ")\n",
        "model2.fit(\n",
        "    X_train,\n",
        "    y_train,\n",
        "    eval_set=(X_validation, y_validation),\n",
        "    cat_features=cat_features,\n",
        "    verbose=False,\n",
        ")"
      ]
    },
    {
      "cell_type": "code",
      "execution_count": null,
      "metadata": {
        "id": "VLFM5yh38BrE"
      },
      "outputs": [],
      "source": [
        "from catboost import MetricVisualizer\n",
        "\n",
        "MetricVisualizer([\"learing_rate_0.01\", \"learing_rate_0.7\"]).start()"
      ]
    },
    {
      "cell_type": "markdown",
      "metadata": {
        "id": "EiBFVR1X8BrE"
      },
      "source": [
        "Оптимальное количество деревьев"
      ]
    },
    {
      "cell_type": "code",
      "execution_count": null,
      "metadata": {
        "id": "dP1-M0cF8BrE"
      },
      "outputs": [],
      "source": [
        "from catboost import CatBoostClassifier\n",
        "\n",
        "model = CatBoostClassifier(\n",
        "    iterations=100,\n",
        "    random_seed=63,\n",
        "    learning_rate=0.5,\n",
        "    #     use_best_model=False\n",
        ")\n",
        "model.fit(\n",
        "    X_train,\n",
        "    y_train,\n",
        "    cat_features=cat_features,\n",
        "    eval_set=(X_validation, y_validation),\n",
        "    verbose=False,\n",
        "    plot=True,\n",
        ")"
      ]
    },
    {
      "cell_type": "code",
      "execution_count": null,
      "metadata": {
        "id": "U0g5Vk4M8BrF"
      },
      "outputs": [],
      "source": [
        "print(\"Tree count: \" + str(model.tree_count_))"
      ]
    },
    {
      "cell_type": "markdown",
      "metadata": {
        "id": "8UIhxQBT8BrF"
      },
      "source": [
        "Кросс-валидация"
      ]
    },
    {
      "cell_type": "code",
      "execution_count": null,
      "metadata": {
        "id": "434jB7_C8BrF"
      },
      "outputs": [],
      "source": [
        "from catboost import cv\n",
        "\n",
        "params = {}\n",
        "params[\"loss_function\"] = \"Logloss\"\n",
        "params[\"iterations\"] = 80\n",
        "params[\"custom_loss\"] = \"AUC\"\n",
        "params[\"random_seed\"] = 63\n",
        "params[\"learning_rate\"] = 0.5\n",
        "\n",
        "cv_data = cv(\n",
        "    params=params,\n",
        "    pool=Pool(X, label=y, cat_features=cat_features),\n",
        "    fold_count=5,\n",
        "    shuffle=True,\n",
        "    partition_random_seed=0,\n",
        "    plot=True,\n",
        "    stratified=False,\n",
        "    verbose=False,\n",
        ")"
      ]
    },
    {
      "cell_type": "code",
      "execution_count": null,
      "metadata": {
        "id": "YToVl3ax8BrF"
      },
      "outputs": [],
      "source": [
        "cv_data.head()"
      ]
    },
    {
      "cell_type": "code",
      "execution_count": null,
      "metadata": {
        "id": "32CA5LU48BrF"
      },
      "outputs": [],
      "source": [
        "best_value = np.min(cv_data[\"test-Logloss-mean\"])\n",
        "best_iter = np.argmin(cv_data[\"test-Logloss-mean\"])\n",
        "\n",
        "print(\n",
        "    \"Best validation LogLoss score, not stratified: {:.4f}±{:.4f} on step {}\".format(\n",
        "        best_value, cv_data[\"test-Logloss-std\"][best_iter], best_iter\n",
        "    )\n",
        ")"
      ]
    },
    {
      "cell_type": "markdown",
      "metadata": {
        "id": "1GK5gMZi8BrG"
      },
      "source": [
        "Детектор переобучения"
      ]
    },
    {
      "cell_type": "code",
      "execution_count": null,
      "metadata": {
        "id": "rf2SxoSc8BrG"
      },
      "outputs": [],
      "source": [
        "model_with_early_stop = CatBoostClassifier(\n",
        "    iterations=200, random_seed=63, learning_rate=0.5, early_stopping_rounds=20\n",
        ")\n",
        "model_with_early_stop.fit(\n",
        "    X_train,\n",
        "    y_train,\n",
        "    cat_features=cat_features,\n",
        "    eval_set=(X_validation, y_validation),\n",
        "    verbose=False,\n",
        "    plot=True,\n",
        ")"
      ]
    },
    {
      "cell_type": "code",
      "execution_count": null,
      "metadata": {
        "id": "DqLUWx1r8BrG"
      },
      "outputs": [],
      "source": [
        "print(model_with_early_stop.tree_count_)"
      ]
    },
    {
      "cell_type": "code",
      "execution_count": null,
      "metadata": {
        "id": "sWs7YfQY8BrG"
      },
      "outputs": [],
      "source": [
        "model_with_early_stop = CatBoostClassifier(\n",
        "    eval_metric=\"AUC\",\n",
        "    iterations=200,\n",
        "    random_seed=63,\n",
        "    learning_rate=0.5,\n",
        "    early_stopping_rounds=20,\n",
        ")\n",
        "model_with_early_stop.fit(\n",
        "    X_train,\n",
        "    y_train,\n",
        "    cat_features=cat_features,\n",
        "    eval_set=(X_validation, y_validation),\n",
        "    verbose=False,\n",
        "    plot=True,\n",
        ")"
      ]
    },
    {
      "cell_type": "code",
      "execution_count": null,
      "metadata": {
        "id": "SGA6_vtC8BrG"
      },
      "outputs": [],
      "source": [
        "print(model_with_early_stop.tree_count_)"
      ]
    },
    {
      "cell_type": "markdown",
      "metadata": {
        "id": "yi9hkMjW8BrG"
      },
      "source": [
        "Вычисление метрик качества и выбор порога принятия решения"
      ]
    },
    {
      "cell_type": "code",
      "execution_count": null,
      "metadata": {
        "id": "ZJifmu2C8BrH"
      },
      "outputs": [],
      "source": [
        "model = CatBoostClassifier(\n",
        "    random_seed=63,\n",
        "    iterations=200,\n",
        "    learning_rate=0.03,\n",
        ")\n",
        "model.fit(X_train, y_train, cat_features=cat_features, verbose=False, plot=True)"
      ]
    },
    {
      "cell_type": "markdown",
      "metadata": {
        "id": "gdI8B3Bb8BrH"
      },
      "source": [
        "![](https://habrastorage.org/webt/y4/1q/yq/y41qyqfm9mcerp2ziys48phpjia.png)"
      ]
    },
    {
      "cell_type": "code",
      "execution_count": null,
      "metadata": {
        "id": "KLOYaQNO8BrH"
      },
      "outputs": [],
      "source": [
        "import sklearn\n",
        "from catboost.utils import get_roc_curve\n",
        "from sklearn import metrics\n",
        "\n",
        "eval_pool = Pool(X_validation, y_validation, cat_features=cat_features)\n",
        "curve = get_roc_curve(model, eval_pool)\n",
        "(fpr, tpr, thresholds) = curve\n",
        "roc_auc = sklearn.metrics.auc(fpr, tpr)"
      ]
    },
    {
      "cell_type": "code",
      "execution_count": null,
      "metadata": {
        "id": "27NAOYvY8BrH"
      },
      "outputs": [],
      "source": [
        "plt.figure(figsize=(16, 8))\n",
        "lw = 2\n",
        "\n",
        "plt.plot(\n",
        "    fpr,\n",
        "    tpr,\n",
        "    color=\"darkorange\",\n",
        "    lw=lw,\n",
        "    label=\"ROC curve (area = %0.2f)\" % roc_auc,\n",
        "    alpha=0.5,\n",
        ")\n",
        "\n",
        "plt.plot([0, 1], [0, 1], color=\"navy\", lw=lw, linestyle=\"--\", alpha=0.5)\n",
        "\n",
        "plt.xlim([0.0, 1.0])\n",
        "plt.ylim([0.0, 1.05])\n",
        "plt.xticks(fontsize=16)\n",
        "plt.yticks(fontsize=16)\n",
        "plt.grid(True)\n",
        "plt.xlabel(\"False Positive Rate\", fontsize=16)\n",
        "plt.ylabel(\"True Positive Rate\", fontsize=16)\n",
        "plt.title(\"Receiver operating characteristic\", fontsize=20)\n",
        "plt.legend(loc=\"lower right\", fontsize=16)\n",
        "plt.show()"
      ]
    },
    {
      "cell_type": "code",
      "execution_count": null,
      "metadata": {
        "id": "aFMOeL8i8BrH"
      },
      "outputs": [],
      "source": [
        "from catboost.utils import get_fnr_curve, get_fpr_curve\n",
        "\n",
        "(thresholds, fpr) = get_fpr_curve(curve=curve)\n",
        "(thresholds, fnr) = get_fnr_curve(curve=curve)"
      ]
    },
    {
      "cell_type": "code",
      "execution_count": null,
      "metadata": {
        "id": "ex7l5tRn8BrI"
      },
      "outputs": [],
      "source": [
        "plt.figure(figsize=(16, 8))\n",
        "lw = 2\n",
        "\n",
        "plt.plot(thresholds, fpr, color=\"blue\", lw=lw, label=\"FPR\", alpha=0.5)\n",
        "plt.plot(thresholds, fnr, color=\"green\", lw=lw, label=\"FNR\", alpha=0.5)\n",
        "\n",
        "plt.xlim([0.0, 1.0])\n",
        "plt.ylim([0.0, 1.05])\n",
        "plt.xticks(fontsize=16)\n",
        "plt.yticks(fontsize=16)\n",
        "plt.grid(True)\n",
        "plt.xlabel(\"Threshold\", fontsize=16)\n",
        "plt.ylabel(\"Error Rate\", fontsize=16)\n",
        "plt.title(\"FPR-FNR curves\", fontsize=20)\n",
        "plt.legend(loc=\"lower left\", fontsize=16)\n",
        "plt.show()"
      ]
    },
    {
      "cell_type": "code",
      "execution_count": null,
      "metadata": {
        "id": "o4hcggl_8BrI"
      },
      "outputs": [],
      "source": [
        "from catboost.utils import select_threshold\n",
        "\n",
        "print(select_threshold(model=model, data=eval_pool, FNR=0.01))\n",
        "print(select_threshold(model=model, data=eval_pool, FPR=0.01))"
      ]
    },
    {
      "cell_type": "markdown",
      "metadata": {
        "id": "uKneVtwF8BrI"
      },
      "source": [
        "Получение предсказаний"
      ]
    },
    {
      "cell_type": "code",
      "execution_count": null,
      "metadata": {
        "id": "x2EW0RgM8BrI"
      },
      "outputs": [],
      "source": [
        "print(model.predict_proba(X_validation))"
      ]
    },
    {
      "cell_type": "code",
      "execution_count": null,
      "metadata": {
        "id": "rYlUcdjV8BrI"
      },
      "outputs": [],
      "source": [
        "print(model.predict(X_validation))"
      ]
    },
    {
      "cell_type": "markdown",
      "metadata": {
        "id": "K58sEzoQ8BrJ"
      },
      "source": [
        "Последовательные предсказания"
      ]
    },
    {
      "cell_type": "code",
      "execution_count": null,
      "metadata": {
        "id": "3Sxle9OE8BrJ"
      },
      "outputs": [],
      "source": [
        "predictions_gen = model.staged_predict_proba(\n",
        "    data=X_validation, ntree_start=0, ntree_end=5, eval_period=1\n",
        ")\n",
        "try:\n",
        "    for iteration, predictions in enumerate(predictions_gen):\n",
        "        print(\"Iteration \" + str(iteration) + \", predictions:\")\n",
        "        print(predictions)\n",
        "except Exception:\n",
        "    pass"
      ]
    },
    {
      "cell_type": "markdown",
      "metadata": {
        "id": "TnFY-FYe8BrJ"
      },
      "source": [
        "Важность признаков"
      ]
    },
    {
      "cell_type": "code",
      "execution_count": null,
      "metadata": {
        "id": "iGfpHevb8BrJ"
      },
      "outputs": [],
      "source": [
        "model.get_feature_importance(prettified=True)"
      ]
    },
    {
      "cell_type": "markdown",
      "metadata": {
        "id": "a_vMCJgZ8BrJ"
      },
      "source": [
        "### Shap values\n",
        "\n",
        "Классические способы измерения важности признаков обладают существенным недостатком: непонятно, как именно каждый признак влияет на предсказание модели. Shap values (значения Шэпли) - способ измерения важности признаков, исправляющий этот недостаток.\n",
        "\n",
        "Подробнее читайте тут: https://habr.com/ru/post/428213/"
      ]
    },
    {
      "cell_type": "code",
      "execution_count": null,
      "metadata": {
        "id": "zhJ7LKJ78BrK"
      },
      "outputs": [],
      "source": [
        "import shap\n",
        "\n",
        "shap_values = model.get_feature_importance(pool1, type=\"ShapValues\")\n",
        "\n",
        "expected_value = shap_values[0, -1]\n",
        "shap_values = shap_values[:, :-1]\n",
        "\n",
        "print(shap_values.shape)"
      ]
    },
    {
      "cell_type": "code",
      "execution_count": null,
      "metadata": {
        "id": "Qhr-yqWj8BrK"
      },
      "outputs": [],
      "source": [
        "shap.summary_plot(shap_values, X)"
      ]
    },
    {
      "cell_type": "markdown",
      "metadata": {
        "id": "kJi8DGAU8BrK"
      },
      "source": [
        "Shap-values для конкретного объекта."
      ]
    },
    {
      "cell_type": "code",
      "execution_count": null,
      "metadata": {
        "id": "HxXGdkGH8BrK"
      },
      "outputs": [],
      "source": [
        "shap.initjs()\n",
        "shap.force_plot(expected_value, shap_values[3, :], X.iloc[3, :])"
      ]
    },
    {
      "cell_type": "markdown",
      "metadata": {
        "id": "MiqsPRQQ8BrK"
      },
      "source": [
        "Сохранение модели"
      ]
    },
    {
      "cell_type": "code",
      "execution_count": null,
      "metadata": {
        "id": "5rk59Pk-8BrL"
      },
      "outputs": [],
      "source": [
        "my_best_model = CatBoostClassifier(iterations=10)\n",
        "my_best_model.fit(\n",
        "    X_train,\n",
        "    y_train,\n",
        "    eval_set=(X_validation, y_validation),\n",
        "    cat_features=cat_features,\n",
        "    verbose=False,\n",
        ")\n",
        "my_best_model.save_model(\"catboost_model.bin\")\n",
        "my_best_model.save_model(\"catboost_model.json\", format=\"json\")"
      ]
    },
    {
      "cell_type": "code",
      "execution_count": null,
      "metadata": {
        "id": "yQYQ9-5e8BrL"
      },
      "outputs": [],
      "source": [
        "my_best_model.load_model(\"catboost_model.bin\")\n",
        "print(my_best_model.get_params())\n",
        "print(my_best_model.random_seed_)"
      ]
    },
    {
      "cell_type": "markdown",
      "metadata": {
        "id": "U1DpII8H8BrL"
      },
      "source": [
        "Подбор гиперпараметров"
      ]
    },
    {
      "cell_type": "code",
      "execution_count": null,
      "metadata": {
        "scrolled": true,
        "id": "c9sRYixj8BrL"
      },
      "outputs": [],
      "source": [
        "cat = CatBoostClassifier(n_estimators=50)\n",
        "\n",
        "grid = {\"learning_rate\": [0.03, 0.1], \"depth\": [4, 6, 10]}\n",
        "#        'l2_leaf_reg': [1, 3, 5, 7, 9]}\n",
        "\n",
        "grid_search_result = cat.grid_search(\n",
        "    grid, X=X_train, y=y_train, verbose=False, plot=True\n",
        ")"
      ]
    },
    {
      "cell_type": "code",
      "execution_count": null,
      "metadata": {
        "id": "l_gipyCu8BrL"
      },
      "outputs": [],
      "source": [
        "grid_search_result[\"params\"]"
      ]
    },
    {
      "cell_type": "markdown",
      "metadata": {
        "id": "G6yyi2Kr8BrL"
      },
      "source": [
        "Визуализация деревьев"
      ]
    },
    {
      "cell_type": "code",
      "execution_count": null,
      "metadata": {
        "id": "4oZkT0Dm8BrM"
      },
      "outputs": [],
      "source": [
        "# Might run into the graphiz problem:\n",
        "# https://stackoverflow.com/questions/35064304/runtimeerror-make-sure-the-graphviz-executables-are-on-your-systems-path-aft"
      ]
    },
    {
      "cell_type": "code",
      "execution_count": null,
      "metadata": {
        "id": "7l-QfLPi8BrM"
      },
      "outputs": [],
      "source": [
        "cat.plot_tree(tree_idx=0)"
      ]
    },
    {
      "cell_type": "markdown",
      "metadata": {
        "id": "xUR8AQts8BrM"
      },
      "source": [
        "Хорошее описание гиперпараметров катбуста: https://habr.com/ru/company/otus/blog/527554/"
      ]
    },
    {
      "cell_type": "markdown",
      "metadata": {
        "id": "lwaTaVpb8BrM"
      },
      "source": [
        "## LightGBM\n",
        "\n",
        "Особенности LightGBM:\n",
        "\n",
        "* полиственное (leaf-wise), а не поуровневое (depth-wise) построение деревьев\n",
        "\n",
        "* быстрое построение дерева, позволяющее не кодировать категориальные признаки, а использовать исходные категории для получения предикатов\n",
        "\n",
        "* ускорение построения деревьев за счёт бинаризации признаков (объединение значений признака в группы)\n",
        "\n",
        "Почитать подробнее можно тут: https://medium.com/@pushkarmandot/https-medium-com-pushkarmandot-what-is-lightgbm-how-to-implement-it-how-to-fine-tune-the-parameters-60347819b7fc"
      ]
    },
    {
      "cell_type": "code",
      "execution_count": null,
      "metadata": {
        "id": "jMJdk_u48BrM"
      },
      "outputs": [],
      "source": [
        "# !conda install lightgbm --y\n",
        "\n",
        "# For those who strugle with M1/M2 macs:\n",
        "# !arch -arm64 brew install libomp"
      ]
    },
    {
      "cell_type": "code",
      "execution_count": null,
      "metadata": {
        "id": "BqUosLo68BrM"
      },
      "outputs": [],
      "source": [
        "import lightgbm as lgb\n",
        "import numpy as np\n",
        "from sklearn.datasets import load_boston\n",
        "from sklearn.metrics import mean_squared_error\n",
        "from sklearn.model_selection import GridSearchCV, train_test_split\n",
        "\n",
        "data = load_boston()\n",
        "X_full = data.data\n",
        "y_full = data.target\n",
        "\n",
        "X_train, X_test, y_train, y_test = train_test_split(\n",
        "    X_full, y_full, test_size=100, random_state=241\n",
        ")"
      ]
    },
    {
      "cell_type": "markdown",
      "metadata": {
        "id": "YpHkJMq-8BrN"
      },
      "source": [
        "Обучение"
      ]
    },
    {
      "cell_type": "code",
      "execution_count": null,
      "metadata": {
        "id": "swZ5MmVg8BrN"
      },
      "outputs": [],
      "source": [
        "print(\"Starting training...\")\n",
        "# train\n",
        "gbm = lgb.LGBMRegressor(num_leaves=31, learning_rate=0.05, n_estimators=20)\n",
        "gbm.fit(\n",
        "    X_train,\n",
        "    y_train,\n",
        "    eval_set=[(X_test, y_test)],\n",
        "    eval_metric=\"l1\",\n",
        "    early_stopping_rounds=5,\n",
        ")"
      ]
    },
    {
      "cell_type": "markdown",
      "metadata": {
        "id": "ydJINPKY8BrN"
      },
      "source": [
        "Предсказание и оценка качества"
      ]
    },
    {
      "cell_type": "code",
      "execution_count": null,
      "metadata": {
        "id": "KVBVnN238BrO"
      },
      "outputs": [],
      "source": [
        "print(\"Starting predicting...\")\n",
        "\n",
        "y_pred = gbm.predict(X_test, num_iteration=gbm.best_iteration_)\n",
        "\n",
        "print(\"The rmse of prediction is:\", mean_squared_error(y_test, y_pred) ** 0.5)\n",
        "\n",
        "# feature importances\n",
        "print(\"Feature importances:\", list(gbm.feature_importances_))"
      ]
    },
    {
      "cell_type": "markdown",
      "metadata": {
        "id": "cREdogwB8BrO"
      },
      "source": [
        "Можно задать любую (придумать свою, например) метрику качества"
      ]
    },
    {
      "cell_type": "code",
      "execution_count": null,
      "metadata": {
        "id": "Yc-KL_XJ8BrO"
      },
      "outputs": [],
      "source": [
        "# self-defined eval metric\n",
        "# f(y_true: array, y_pred: array) -> name: string, eval_result: float, is_higher_better: bool\n",
        "# Root Mean Squared Logarithmic Error (RMSLE)\n",
        "def rmsle(y_true, y_pred):\n",
        "    return (\n",
        "        \"RMSLE\",\n",
        "        np.sqrt(np.mean(np.power(np.log1p(y_pred) - np.log1p(y_true), 2))),\n",
        "        False,\n",
        "    )\n",
        "\n",
        "\n",
        "print(\"Starting training with custom eval function...\")\n",
        "# train\n",
        "gbm.fit(\n",
        "    X_train,\n",
        "    y_train,\n",
        "    eval_set=[(X_test, y_test)],\n",
        "    eval_metric=rmsle,\n",
        "    early_stopping_rounds=5,\n",
        ")\n",
        "\n",
        "print(\"Starting predicting...\")\n",
        "# predict\n",
        "y_pred = gbm.predict(X_test, num_iteration=gbm.best_iteration_)\n",
        "# eval\n",
        "print(\"The rmsle of prediction is:\", rmsle(y_test, y_pred)[1])"
      ]
    },
    {
      "cell_type": "markdown",
      "metadata": {
        "id": "Ooz2_rXD8BrO"
      },
      "source": [
        "Подбор гиперпараметров"
      ]
    },
    {
      "cell_type": "code",
      "execution_count": null,
      "metadata": {
        "id": "8u4y-efp8BrO"
      },
      "outputs": [],
      "source": [
        "# other scikit-learn modules\n",
        "estimator = lgb.LGBMRegressor(num_leaves=31)\n",
        "\n",
        "param_grid = {\"learning_rate\": [0.01, 0.1, 1], \"n_estimators\": [20, 40]}\n",
        "\n",
        "gbm = GridSearchCV(estimator, param_grid, cv=3)\n",
        "gbm.fit(X_train, y_train)\n",
        "\n",
        "print(\"Best parameters found by grid search are:\", gbm.best_params_)"
      ]
    },
    {
      "cell_type": "markdown",
      "metadata": {
        "id": "hQxuiMHw8BrP"
      },
      "source": [
        "Предсказание и оценка качества"
      ]
    },
    {
      "cell_type": "code",
      "execution_count": null,
      "metadata": {
        "id": "K2-AzwgV8BrP"
      },
      "outputs": [],
      "source": [
        "pred = gbm.predict(X_test)"
      ]
    },
    {
      "cell_type": "code",
      "execution_count": null,
      "metadata": {
        "id": "qtR1ZI2g8BrP"
      },
      "outputs": [],
      "source": [
        "from sklearn.metrics import mean_squared_error\n",
        "\n",
        "mean_squared_error(y_test, pred)"
      ]
    },
    {
      "cell_type": "markdown",
      "source": [
        "# Bayesian optimization"
      ],
      "metadata": {
        "id": "DUQbT5G3_Khv"
      }
    },
    {
      "cell_type": "code",
      "source": [
        "import numpy as np\n",
        "import pandas as pd\n",
        "from catboost import CatBoostRegressor\n",
        "from sklearn.datasets import load_diabetes\n",
        "from sklearn.model_selection import cross_val_score\n",
        "from bayes_opt import BayesianOptimization\n",
        "import matplotlib.pyplot as plt\n",
        "import seaborn as sns\n",
        "\n",
        "\n",
        "# Define the objective function for Bayesian Optimization\n",
        "def catboost_cv(depth, learning_rate, iterations, subsample, l2_leaf_reg):\n",
        "    # Convert hyperparameters to the right format\n",
        "    depth = int(depth)\n",
        "    iterations = int(iterations)\n",
        "    l2_leaf_reg = int(l2_leaf_reg)\n",
        "    # Initialize the CatBoost model (CatBoostRegressor for regression)\n",
        "    model = CatBoostRegressor(\n",
        "        depth=depth,\n",
        "        learning_rate=learning_rate,\n",
        "        iterations=iterations,\n",
        "        subsample=subsample,\n",
        "        l2_leaf_reg=l2_leaf_reg,\n",
        "        verbose=False\n",
        "    )\n",
        "\n",
        "    # Perform cross-validation and return the mean R-squared score (for regression)\n",
        "    cross_val_scores = cross_val_score(model, X, y, cv=3, scoring='r2')\n",
        "\n",
        "    return cross_val_scores.mean()\n",
        "\n",
        "# Define the hyperparameter search space with data types\n",
        "param_space = {\n",
        "    'depth': (3, 10),             # Integer values for depth\n",
        "    'learning_rate': (0.01, 0.3),  # Float values for learning rate\n",
        "    'iterations': (100, 1000),    # Integer values for iterations\n",
        "    'subsample': (0.5, 1),       # Float values for subsample\n",
        "    'l2_leaf_reg': (1, 10)        # Integer values for l2_leaf_reg\n",
        "}\n",
        "\n",
        "# Create the BayesianOptimization object and maximize it\n",
        "bayesian_opt = BayesianOptimization(\n",
        "    f=catboost_cv, pbounds=param_space, random_state=42)\n",
        "bayesian_opt.maximize(init_points=5, n_iter=10)\n",
        "results = pd.DataFrame(bayesian_opt.res)\n",
        "results.sort_values(by='target', ascending=False, inplace=True)\n",
        "\n",
        "# Print the best hyperparameters and their corresponding R2 score\n",
        "best_hyperparameters = bayesian_opt.max\n",
        "best_hyperparameters['params'] = {param: int(value) if param in [\n",
        "    'depth', 'iterations', 'l2_leaf_reg'] else value for param, value in best_hyperparameters['params'].items()}\n",
        "print(\"Best hyperparameters:\", best_hyperparameters['params'])\n",
        "print(f\"Best R-squared Score: {best_hyperparameters['target']:.4f}\")"
      ],
      "metadata": {
        "id": "CIOICJOA_oaH"
      },
      "execution_count": null,
      "outputs": []
    }
  ],
  "metadata": {
    "kernelspec": {
      "display_name": "Python 3 (ipykernel)",
      "language": "python",
      "name": "python3"
    },
    "language_info": {
      "codemirror_mode": {
        "name": "ipython",
        "version": 3
      },
      "file_extension": ".py",
      "mimetype": "text/x-python",
      "name": "python",
      "nbconvert_exporter": "python",
      "pygments_lexer": "ipython3",
      "version": "3.10.4"
    },
    "colab": {
      "provenance": []
    }
  },
  "nbformat": 4,
  "nbformat_minor": 0
}