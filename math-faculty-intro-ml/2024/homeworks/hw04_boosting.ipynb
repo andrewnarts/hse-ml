{
 "cells": [
  {
   "cell_type": "markdown",
   "id": "047674ee",
   "metadata": {},
   "source": [
    "# Домашняя работа "
   ]
  },
  {
   "cell_type": "markdown",
   "id": "d8461109",
   "metadata": {},
   "source": [
    "В этой работы мы будем учиться предсказывать зарплату data scientist-ов в зависимочти от ряда факторов с помощью градиентоного бустинга"
   ]
  },
  {
   "cell_type": "markdown",
   "id": "7a2ab23d",
   "metadata": {},
   "source": [
    "Цель домашней работы научиться предсказывать зарплаты (salary_in_usd) по ряды факторов "
   ]
  },
  {
   "cell_type": "markdown",
   "id": "1651e8dd",
   "metadata": {},
   "source": [
    "work_year: The number of years of work experience in the field of data science.\n",
    "\n",
    "experience_level: The level of experience, such as Junior, Senior, or Lead.\n",
    "\n",
    "employment_type: The type of employment, such as Full-time or Contract.\n",
    "\n",
    "job_title: The specific job title or role, such as Data Analyst or Data Scientist.\n",
    "\n",
    "salary: The salary amount for the given job.\n",
    "\n",
    "salary_currency: The currency in which the salary is denoted.\n",
    "\n",
    "salary_in_usd: The equivalent salary amount converted to US dollars (USD) for comparison purposes.\n",
    "\n",
    "employee_residence: The country or region where the employee resides.\n",
    "\n",
    "remote_ratio: The percentage of remote work offered in the job.\n",
    "\n",
    "company_location: The location of the company or organization.\n",
    "\n",
    "company_size: The company’s size is categorized as Small, Medium, or Large."
   ]
  },
  {
   "cell_type": "code",
   "execution_count": 2,
   "id": "dbf7595c",
   "metadata": {},
   "outputs": [],
   "source": [
    "import pandas as pd"
   ]
  },
  {
   "cell_type": "code",
   "execution_count": 3,
   "id": "792d14c9",
   "metadata": {},
   "outputs": [],
   "source": [
    "df = pd.read_csv(\"ds_salaries.csv\")"
   ]
  },
  {
   "cell_type": "code",
   "execution_count": 11,
   "id": "1758b0e0",
   "metadata": {},
   "outputs": [
    {
     "data": {
      "text/html": [
       "<div>\n",
       "<style scoped>\n",
       "    .dataframe tbody tr th:only-of-type {\n",
       "        vertical-align: middle;\n",
       "    }\n",
       "\n",
       "    .dataframe tbody tr th {\n",
       "        vertical-align: top;\n",
       "    }\n",
       "\n",
       "    .dataframe thead th {\n",
       "        text-align: right;\n",
       "    }\n",
       "</style>\n",
       "<table border=\"1\" class=\"dataframe\">\n",
       "  <thead>\n",
       "    <tr style=\"text-align: right;\">\n",
       "      <th></th>\n",
       "      <th>work_year</th>\n",
       "      <th>experience_level</th>\n",
       "      <th>employment_type</th>\n",
       "      <th>job_title</th>\n",
       "      <th>salary</th>\n",
       "      <th>salary_currency</th>\n",
       "      <th>salary_in_usd</th>\n",
       "      <th>employee_residence</th>\n",
       "      <th>remote_ratio</th>\n",
       "      <th>company_location</th>\n",
       "      <th>company_size</th>\n",
       "    </tr>\n",
       "  </thead>\n",
       "  <tbody>\n",
       "    <tr>\n",
       "      <th>0</th>\n",
       "      <td>2023</td>\n",
       "      <td>SE</td>\n",
       "      <td>FT</td>\n",
       "      <td>Principal Data Scientist</td>\n",
       "      <td>80000</td>\n",
       "      <td>EUR</td>\n",
       "      <td>85847</td>\n",
       "      <td>ES</td>\n",
       "      <td>100</td>\n",
       "      <td>ES</td>\n",
       "      <td>L</td>\n",
       "    </tr>\n",
       "    <tr>\n",
       "      <th>1</th>\n",
       "      <td>2023</td>\n",
       "      <td>MI</td>\n",
       "      <td>CT</td>\n",
       "      <td>ML Engineer</td>\n",
       "      <td>30000</td>\n",
       "      <td>USD</td>\n",
       "      <td>30000</td>\n",
       "      <td>US</td>\n",
       "      <td>100</td>\n",
       "      <td>US</td>\n",
       "      <td>S</td>\n",
       "    </tr>\n",
       "    <tr>\n",
       "      <th>2</th>\n",
       "      <td>2023</td>\n",
       "      <td>MI</td>\n",
       "      <td>CT</td>\n",
       "      <td>ML Engineer</td>\n",
       "      <td>25500</td>\n",
       "      <td>USD</td>\n",
       "      <td>25500</td>\n",
       "      <td>US</td>\n",
       "      <td>100</td>\n",
       "      <td>US</td>\n",
       "      <td>S</td>\n",
       "    </tr>\n",
       "    <tr>\n",
       "      <th>3</th>\n",
       "      <td>2023</td>\n",
       "      <td>SE</td>\n",
       "      <td>FT</td>\n",
       "      <td>Data Scientist</td>\n",
       "      <td>175000</td>\n",
       "      <td>USD</td>\n",
       "      <td>175000</td>\n",
       "      <td>CA</td>\n",
       "      <td>100</td>\n",
       "      <td>CA</td>\n",
       "      <td>M</td>\n",
       "    </tr>\n",
       "    <tr>\n",
       "      <th>4</th>\n",
       "      <td>2023</td>\n",
       "      <td>SE</td>\n",
       "      <td>FT</td>\n",
       "      <td>Data Scientist</td>\n",
       "      <td>120000</td>\n",
       "      <td>USD</td>\n",
       "      <td>120000</td>\n",
       "      <td>CA</td>\n",
       "      <td>100</td>\n",
       "      <td>CA</td>\n",
       "      <td>M</td>\n",
       "    </tr>\n",
       "  </tbody>\n",
       "</table>\n",
       "</div>"
      ],
      "text/plain": [
       "   work_year experience_level employment_type                 job_title  \\\n",
       "0       2023               SE              FT  Principal Data Scientist   \n",
       "1       2023               MI              CT               ML Engineer   \n",
       "2       2023               MI              CT               ML Engineer   \n",
       "3       2023               SE              FT            Data Scientist   \n",
       "4       2023               SE              FT            Data Scientist   \n",
       "\n",
       "   salary salary_currency  salary_in_usd employee_residence  remote_ratio  \\\n",
       "0   80000             EUR          85847                 ES           100   \n",
       "1   30000             USD          30000                 US           100   \n",
       "2   25500             USD          25500                 US           100   \n",
       "3  175000             USD         175000                 CA           100   \n",
       "4  120000             USD         120000                 CA           100   \n",
       "\n",
       "  company_location company_size  \n",
       "0               ES            L  \n",
       "1               US            S  \n",
       "2               US            S  \n",
       "3               CA            M  \n",
       "4               CA            M  "
      ]
     },
     "execution_count": 11,
     "metadata": {},
     "output_type": "execute_result"
    }
   ],
   "source": [
    "df.head()"
   ]
  },
  {
   "cell_type": "markdown",
   "id": "6696e77a",
   "metadata": {},
   "source": [
    "## Задание 1 (0.2 балла)"
   ]
  },
  {
   "cell_type": "markdown",
   "id": "0cb13dc7",
   "metadata": {},
   "source": [
    "Разделите выборку на train, val, test (80%, 10%, 10%) в качестве таргета выберите salary_in_usd, удалите из признаков (salary) чтобы избежать лика в данных."
   ]
  },
  {
   "cell_type": "markdown",
   "id": "f63cb01a",
   "metadata": {},
   "source": [
    "## Задание 2 (0.3 балла)"
   ]
  },
  {
   "cell_type": "markdown",
   "id": "647a5cad",
   "metadata": {},
   "source": [
    "Обучите модель линейной регресии и оцените её качество через mape и rmse"
   ]
  },
  {
   "cell_type": "markdown",
   "id": "8bf8374f",
   "metadata": {},
   "source": [
    "## Задание 3 (0.3 балла)"
   ]
  },
  {
   "cell_type": "markdown",
   "id": "97440d17",
   "metadata": {},
   "source": [
    "Обучите модель бустинга выберите любую из трех библиотек catboost, xgboost, lightgbm и оцените её качество через mape и rmse"
   ]
  },
  {
   "cell_type": "markdown",
   "id": "17b76f89",
   "metadata": {},
   "source": [
    "## Задание 4 (0.6 балла)"
   ]
  },
  {
   "cell_type": "markdown",
   "id": "34452854",
   "metadata": {},
   "source": [
    "Далее предобработайте категориальные признаки с помощью onehot кодирования, labelencoder и счетчиков (mean target encoding) сравните качество трёх моделей бустинга (catboost, xgb, lgbm) с помощью mape и rmse. Какие выводы можно сделать? Выберите для каждой из моделей лучшее кодирование категориальных признаков - в дальнейшем будем работать только с ним."
   ]
  },
  {
   "cell_type": "markdown",
   "id": "119b89f1",
   "metadata": {},
   "source": [
    "## Задание 5 (0.6 балла)"
   ]
  },
  {
   "cell_type": "markdown",
   "id": "140b8af1",
   "metadata": {},
   "source": [
    "Покажите, где ошибаются ваши модели. Выведите топ 20 примеров с наибольшей ошибкой для каждой модели. Проанализируете их, постарайтесь выделить группы с причинами ошибок в моделе. Какие выводы можно сделать? Что стоит изменить в данных чтобы улучшить качество модели?"
   ]
  },
  {
   "cell_type": "markdown",
   "id": "0bb42f2e",
   "metadata": {},
   "source": [
    "## Задание 6 (2 балла)\n",
    "\n",
    "Сравните feature importance трёх моделей с помощью shap. Как выводы можно сделать?"
   ]
  },
  {
   "cell_type": "markdown",
   "id": "348b42f3",
   "metadata": {},
   "source": [
    "## Задание 7 (2 балла)\n",
    "Придумайте признаки для улучшения качества моделей на основе предыдущего пункта. Как вам кажется какими признаками можно улучшить качетсво каждой модели? Реализуйте признаки и проверьте улучшилось ли качество моделей. Полный балл за задание ставится даже при отсутствии улучшения качества модели, важно попробовать проверить свои гипотезы и сделать выводы"
   ]
  },
  {
   "cell_type": "markdown",
   "id": "cf5e4e24",
   "metadata": {},
   "source": [
    "## Задание 8 (3 балла)\n",
    "Напишите функцию для оптимизации гиперпараметров трёх моделей бустинга: xgboost, catboost и lightgbm. Функция должна работать максимально эффективно по времени и качеству (соответственно, полный перебор - самый тупой вариант)\n",
    "\n",
    "В случае Catboost, используйте pool для передачи данных в модель с указанием какие признаки категориальные, а какие нет с помощью параметры cat_features.\n",
    "\n",
    "Подберите для каждой из моделей лучшие гиперпараметры. "
   ]
  },
  {
   "cell_type": "markdown",
   "id": "7c56d873",
   "metadata": {},
   "source": [
    "## Задание 9 (1 балл)"
   ]
  },
  {
   "cell_type": "markdown",
   "id": "3a2c1148",
   "metadata": {},
   "source": [
    "Сделайте выводы про модели бустинга, какая из моделей показала лучший результат по качеству, скорости обучения и скорости предсказания"
   ]
  }
 ],
 "metadata": {
  "kernelspec": {
   "display_name": "Python 3 (ipykernel)",
   "language": "python",
   "name": "python3"
  },
  "language_info": {
   "codemirror_mode": {
    "name": "ipython",
    "version": 3
   },
   "file_extension": ".py",
   "mimetype": "text/x-python",
   "name": "python",
   "nbconvert_exporter": "python",
   "pygments_lexer": "ipython3",
   "version": "3.10.13"
  }
 },
 "nbformat": 4,
 "nbformat_minor": 5
}
